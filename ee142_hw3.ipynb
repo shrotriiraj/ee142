{
  "nbformat": 4,
  "nbformat_minor": 0,
  "metadata": {
    "colab": {
      "provenance": []
    },
    "kernelspec": {
      "name": "python3",
      "display_name": "Python 3"
    },
    "language_info": {
      "name": "python"
    }
  },
  "cells": [
    {
      "cell_type": "markdown",
      "metadata": {
        "id": "UKc8K9_57UEz"
      },
      "source": [
        "# CS171-EE142 - Fall 2022 - Homework 3\n",
        "\n",
        "# Due: Tuesday, November 15, 2022 @ 11:59pm\n",
        "\n",
        "### Maximum points: 80 pts\n",
        "\n",
        "\n",
        "## Submit your solution to Gradescope:\n",
        "1. Submit a single PDF to **HW3**\n",
        "2. Submit your jupyter notebook to **HW3-code**\n",
        "\n",
        "**See the additional submission instructions at the end of this notebook**"
      ]
    },
    {
      "cell_type": "markdown",
      "metadata": {
        "id": "JL5tIX4c9z6s"
      },
      "source": [
        "\n",
        "## Enter your information below:\n",
        "\n",
        "### Your Name (submitter): Iraj Shrotri\n",
        "\n",
        "### Your student ID (submitter): 862077452\n",
        "    \n",
        "    \n",
        "<b>By submitting this notebook, I assert that the work below is my own work, completed for this course.  Except where explicitly cited, none of the portions of this notebook are duplicated from anyone else's work or my own previous work.</b>\n",
        "\n",
        "\n",
        "## Academic Integrity\n",
        "Each assignment should be done  individually. You may discuss general approaches with other students in the class, and ask questions to the TAs, but  you must only submit work that is yours . If you receive help by any external sources (other than the TA and the instructor), you must properly credit those sources, and if the help is significant, the appropriate grade reduction will be applied. If you fail to do so, the instructor and the TAs are obligated to take the appropriate actions outlined at http://conduct.ucr.edu/policies/academicintegrity.html . Please read carefully the UCR academic integrity policies included in the link.\n"
      ]
    },
    {
      "cell_type": "markdown",
      "metadata": {
        "id": "hsywQWEI8pzj"
      },
      "source": [
        "# Overview \n",
        "In this assignment you will implement a two-layer neural network. You will implement the loss functions, gradients, optimizers to train the network and test its performance on MNIST dataset. \n",
        "\n",
        "For this assignment we will use the functionality of Pandas (https://pandas.pydata.org/), Matplotlib (https://matplotlib.org/), and Numpy (http://www.numpy.org/). \n",
        "\n",
        "If you are asked to **implement** a particular functionality, you should **not** use an existing implementation from the libraries above (or some other library that you may find). When in doubt, please ask. \n",
        "\n",
        "Before you start, make sure you have installed all those packages in your local Jupyter instance\n",
        "\n",
        "## Read *all* cells carefully and answer all parts (both text and missing code)\n",
        "\n",
        "You will complete all the code marked `TODO` and answer descriptive/derivation questions \n",
        "\n"
      ]
    },
    {
      "cell_type": "code",
      "metadata": {
        "id": "3d6urIY6Ci2D"
      },
      "source": [
        "import numpy as np\n",
        "import matplotlib.pyplot as plt\n",
        "\n",
        "# make sure you import here everything else you may need"
      ],
      "execution_count": null,
      "outputs": []
    },
    {
      "cell_type": "markdown",
      "metadata": {
        "id": "9vBsJizSAN5C"
      },
      "source": [
        "### Load MNIST Dataset \n",
        "\n",
        "For this assignment, we will use [MNIST](https://en.wikipedia.org/wiki/MNIST_database) handwritten digits data set. The dataset consists 10 handwritten digits (0,1,...,9). It is a widely used dataset to demonstrate simple image classification problem.\n",
        "\n",
        "MNIST dataset is publicly available from different sources. We will be using MNIST from Keras package. If you do not have Keras installed, you can find the installation guide [here](https://www.tutorialspoint.com/keras/keras_installation.htm). \n",
        "\n",
        "In short, you need to run ```conda install -c anaconda keras``` or ```pip install keras```\n",
        "\n",
        "The training data consists of 60000 images of size $28 \\times 28$ pixels; the test data consists of 10000 images."
      ]
    },
    {
      "cell_type": "code",
      "metadata": {
        "id": "Jdo3YbSzAN5D",
        "colab": {
          "base_uri": "https://localhost:8080/",
          "height": 214
        },
        "outputId": "ec812b01-d171-40c1-ce14-908714c46087"
      },
      "source": [
        "from keras.datasets import mnist\n",
        "(x_train, y_train), (x_test, y_test) = mnist.load_data()\n",
        "\n",
        "print('Training data shape:',x_train.shape)\n",
        "print('Test data shape:',x_test.shape)\n",
        "\n",
        "n_img=10\n",
        "plt.figure(figsize=(n_img*2,2))\n",
        "plt.gray()\n",
        "for i in range(n_img):\n",
        "    plt.subplot(1,n_img,i+1)\n",
        "    plt.imshow(x_train[i])\n",
        "plt.show()"
      ],
      "execution_count": null,
      "outputs": [
        {
          "output_type": "stream",
          "name": "stdout",
          "text": [
            "Downloading data from https://storage.googleapis.com/tensorflow/tf-keras-datasets/mnist.npz\n",
            "11490434/11490434 [==============================] - 0s 0us/step\n",
            "Training data shape: (60000, 28, 28)\n",
            "Test data shape: (10000, 28, 28)\n"
          ]
        },
        {
          "output_type": "display_data",
          "data": {
            "text/plain": [
              "<Figure size 1440x144 with 10 Axes>"
            ],
            "image/png": "[encoded data removed]"
          },
          "metadata": {
            "needs_background": "light"
          }
        }
      ]
    },
    {
      "cell_type": "markdown",
      "metadata": {
        "id": "Uw4N4norAN5D"
      },
      "source": [
        "We will be vectorizing the training and test images. So, the size of each vector will be 784."
      ]
    },
    {
      "cell_type": "code",
      "metadata": {
        "id": "VOIMLKYtAN5E",
        "colab": {
          "base_uri": "https://localhost:8080/"
        },
        "outputId": "acc92203-4354-41d5-cf09-d2069b8cf099"
      },
      "source": [
        "x_train=x_train.reshape(x_train.shape[0],-1)\n",
        "x_test=x_test.reshape(x_test.shape[0],-1)\n",
        "\n",
        "print('Training data shape after reshaping:',x_train.shape)\n",
        "print('Test data shape after reshaping::',x_test.shape)"
      ],
      "execution_count": null,
      "outputs": [
        {
          "output_type": "stream",
          "name": "stdout",
          "text": [
            "Training data shape after reshaping: (60000, 784)\n",
            "Test data shape after reshaping:: (10000, 784)\n"
          ]
        }
      ]
    },
    {
      "cell_type": "markdown",
      "metadata": {
        "id": "iHVQmrbIAN4-"
      },
      "source": [
        "## Question 1: Binary classification using neural network [45 pts]\n",
        "\n",
        "We will start with classification of images for two different digits using a two-layer network with a cross entropy loss. \n",
        "\n",
        "In the next question, we will extend the same architecture to multi-class classification. \n",
        "\n",
        "Pick any two digits out of ten for our classification (say 5 and 8), which we will assign label \"0\" or \"1\". \n",
        "\n",
        "Pick same number of images from each class for training and create arrays for input and output (say 1000). \n",
        "\n",
        "```\n",
        "# train_x -- N x 784 array of training input\n",
        "# train_y -- N x 1 array of binary labels \n",
        "```  \n",
        "\n",
        "If you use 1000 images from each class N = 2000. You can increase the number of training samples if you like. It is just a suggestion. \n",
        "\n",
        "\n",
        "We also need to transpose the dimension of the data so that their size becomes $784\\times N$. It will be helpful to feed it to our model based on our notations.\n"
      ]
    },
    {
      "cell_type": "code",
      "metadata": {
        "id": "fir2-wZWAN5E",
        "colab": {
          "base_uri": "https://localhost:8080/"
        },
        "outputId": "1c82bb55-5e11-411f-b457-a4b4c26a4449"
      },
      "source": [
        "def extract_binary_classification_dataset(x, y, label1, label2, num_samples):\n",
        "    \"\"\"Make a subset dataset from MNIST, containing only 2 classes for binary classification task \n",
        "    Args:\n",
        "        x (numpy.ndarray): data, can be x_train or x_test\n",
        "        y (numpy.ndarray): labels of data, can be y_train or y_test\n",
        "        label1 (int): the first class you pick, e.g. 5\n",
        "        label2 (int): the second class you pick, e.g. 8\n",
        "        num_samples (int): the number of images you select for each class, e.g. 1000\n",
        "    Returns:\n",
        "        x_ (numpy.ndarray): the data for 2 picked classes\n",
        "        y_ (numpy.ndarray): the corresponding labels for 2 picked classes\n",
        "    \"\"\"\n",
        "    # for class 1\n",
        "    x1 = x[y == label1]\n",
        "    x1 = x1[:num_samples]\n",
        "    y1 = np.zeros(len(x1))\n",
        "\n",
        "    # for class 2\n",
        "    x2 = x[y == label2]\n",
        "    x2 = x2[:num_samples]\n",
        "    y2 = np.ones(len(x2))\n",
        "\n",
        "    # combine 2 classes\n",
        "    x_ = np.concatenate((x1,x2),axis=0)\n",
        "    y_ = np.concatenate((y1,y2),axis=0)\n",
        "    return x_, y_\n",
        "\n",
        "\n",
        "# Pick your own digits\n",
        "label1 = 7\n",
        "label2 = 1\n",
        "num_samples = 1000\n",
        "\n",
        "# Train & test data\n",
        "train_x, train_y = extract_binary_classification_dataset(x_train, y_train, label1, label2, num_samples)\n",
        "test_x, test_y = extract_binary_classification_dataset(x_test, y_test, label1, label2, num_samples)\n",
        "\n",
        "# reshape data \n",
        "train_x = train_x.T\n",
        "test_x = test_x.T\n",
        "print(\"Training data shape:\", train_x.shape)\n",
        "print(\"Test data shape:\", test_x.shape)"
      ],
      "execution_count": null,
      "outputs": [
        {
          "output_type": "stream",
          "name": "stdout",
          "text": [
            "Training data shape: (784, 2000)\n",
            "Test data shape: (784, 2000)\n"
          ]
        }
      ]
    },
    {
      "cell_type": "markdown",
      "metadata": {
        "id": "HdeO0YieAN5E"
      },
      "source": [
        "### Network Architecture\n",
        "\n",
        "We will be using a two layer neural network in our experiment. The input layer will have 784 nodes, the hidden layer will have 256 nodes and the output layer will have 1 node. Each node will have $\\textit{sigmoid}$ activation function.\n",
        "\n",
        "The equations for feedforward operation will be the following:\n",
        "\n",
        "$$\\mathbf{z}^{(1)}=W^{(1)} \\mathbf{x}+ \\mathbf{b}^{(1)}\\\\\\mathbf{y}^{(1)}=\\varphi(\\mathbf{z}^{(1)})\\\\\\mathbf{z}^{(2)}=W^{(2)}  \\mathbf{y}^{(1)}+ \\mathbf{b}^{(2)} \\\\\\mathbf{y}^{(2)}=\\varphi(\\mathbf{z}^{(2)})$$\n",
        "\n",
        "where $\\mathbf{x}\\in \\mathbb{R}^{784}$ is the input layer, $\\mathbf{y}^{(1)}\\in \\mathbb{R}^{256}$ is the hidden layer, $\\mathbf{y}^{(2)} \\in \\mathbb{R}$ is the output layer, $W^{(1)}\\in \\mathbb{R}^{256\\times 784}$ is the first layer weights, $W^{(2)}\\in \\mathbb{R}^{1\\times 256}$ is the second layer weights, $\\mathbf{b}^{(1)}\\in \\mathbb{R}^{256}$ is the first layer bias, $\\mathbf{b}^{(2)}\\in \\mathbb{R}$ is the second layer bias, $\\varphi(\\cdot)$ is the activation function."
      ]
    },
    {
      "cell_type": "markdown",
      "metadata": {
        "id": "XWw3zn2_AN5F"
      },
      "source": [
        "### Network initialization [5 pts]\n",
        "\n",
        "We initialize the weights for $W^{(1)}$ and $W^{(2)}$ with random values drawn from normal distribution with zero mean and 0.01 standard deviation. We will initialize bias vectors $\\mathbf{b}^{(1)}$ and $\\mathbf{b^{(2)}}$ with zero values. \n",
        "\n",
        "We can fix the seed for random initialization for reproducibility."
      ]
    },
    {
      "cell_type": "code",
      "metadata": {
        "id": "5k52OUaoAN5F"
      },
      "source": [
        "def TwoLayerNetwork(layer_dims=[784,256,1]):\n",
        "    # Fix the seed\n",
        "    np.random.seed(5)\n",
        "    w1 = np.random.normal(loc=0, scale=0.01, size=(256,784))\n",
        "    w2 = np.random.normal(loc=0, scale=0.01, size=(1,256))\n",
        "    b1 = np.zeros((256,1))\n",
        "    b2 = np.zeros((1,1))\n",
        "    params = [w1, w2, b1, b2]\n",
        "    return params"
      ],
      "execution_count": null,
      "outputs": []
    },
    {
      "cell_type": "markdown",
      "metadata": {
        "id": "0xLDm_wkAN5F"
      },
      "source": [
        "### Sigmoid activation function \n",
        "Now we will write the sigmoid activation function as \n",
        "\n",
        "$$ \\varphi(z) = \\frac{1}{1+e^{-z}}$$\n",
        "\n",
        "Note that derivative of __sigmoid__ is $\\varphi'(z) = \\varphi(z) (1-\\varphi(z))$. "
      ]
    },
    {
      "cell_type": "code",
      "metadata": {
        "id": "_CPxvM0UAN5F"
      },
      "source": [
        "def sigmoid(Z):\n",
        "    Y = 1/(1+np.exp(-Z))\n",
        "    return Y"
      ],
      "execution_count": null,
      "outputs": []
    },
    {
      "cell_type": "markdown",
      "metadata": {
        "id": "GGuGMhzeAN5G"
      },
      "source": [
        "### Cross entropy loss function [5 pts]\n",
        "We will minimize the binary cross entropy loss function. You will use the true labels and predicted labels of a batch of N samples. \n",
        "\n",
        "Binary crossentropy loss for $i^{th}$ sample can be written as \n",
        "\n",
        "$$Loss_i = -y_i \\log y^{(2)}_i- (1-y_i) \\log (1-y^{(2)}_i)$$\n",
        "\n",
        "where $y_i$ is the true label. We can find the average loss for a batch of N samples as $Loss=\\frac{1}{N}\\sum_{i=1}^{N} Loss_i$.\n",
        "\n",
        "Note that the gradient of the cross entropy loss w.r.t. the output is \n",
        "\n",
        "$$ \\nabla_{y^{(2)}} Loss_i = -\\frac{y_i}{y_i^{(2)}} + \\frac{1-y_i}{1-y_i^{(2)}} = \\frac{y_i^{(2)}-y_i}{y_i^{(2)}(1-y_i^{(2)})}.$$\n",
        "\n",
        "We can also show that $$\\delta^{(2)} = \\nabla_{\\mathbf{z}^{(2)}} Loss_i  = \\nabla_{y^{(2)}} Loss_i \\odot \\varphi'(\\mathbf{z})= y_i^{(2)}-y_i,$$ \n",
        "where $\\odot$ denotes element-wise multiplication of the arrays. "
      ]
    },
    {
      "cell_type": "code",
      "metadata": {
        "id": "l7KkfTXeAN5G"
      },
      "source": [
        "def CrossEntropyLoss(Y_true, Y2):\n",
        "    # TODO \n",
        "    Loss = -Y_true*np.log(Y2) - (1-Y_true)*np.log(1-Y2)\n",
        "    return Loss"
      ],
      "execution_count": null,
      "outputs": []
    },
    {
      "cell_type": "markdown",
      "metadata": {
        "id": "EnFFFVP1AN5F"
      },
      "source": [
        "### Forward propagation  [5 pts]\n",
        "Next, we will write the code for the forward pass for two layer network. Each layer consists of an affine function (fully-connected layer) followed by an activation function. You wil also return the intermediate results ($\\mathbf{x}, \\mathbf{z}^{(1)}, \\mathbf{y}^{(1)}, \\mathbf{z}^{(2)}$) in addition to final output ($\\mathbf{y}^{(2)}$). You will need the intermediate outputs for the backpropagation step."
      ]
    },
    {
      "cell_type": "code",
      "metadata": {
        "id": "oBHoC1_TAN5F"
      },
      "source": [
        "def forward(X, params):\n",
        "    # TODO \n",
        "    # Write your codes here\n",
        "    # X -- 784 x N array \n",
        "    # params -- \n",
        "      # W1 -- 256 x 784 matrix\n",
        "      # b1 -- 256 x 1 vector\n",
        "      # W2 -- 1 x 256 matrix\n",
        "      # b2 -- 1 x 1 scalar \n",
        "    # Y2 -- 1 x N output\n",
        "        # intermediate -- X, Z1, Y1, Z2 \n",
        "      # Z1 -- 256 x N matrix\n",
        "      # Y1 -- 256 x N matrix\n",
        "      # Z2 -- 1 x N array\n",
        "    Z1 = np.dot(params[0], X) + params[2]\n",
        "    Y1 = sigmoid(Z1)\n",
        "    Z2 = np.dot(params[1], Y1) + params[3]\n",
        "    Y2 = sigmoid(Z2)\n",
        "    intermediate = [X, Z1, Y1, Z2]\n",
        "    return Y2, intermediate"
      ],
      "execution_count": null,
      "outputs": []
    },
    {
      "cell_type": "markdown",
      "metadata": {
        "id": "I4ZM2NLAAN5G"
      },
      "source": [
        "### Backpropagration step [10 pts]\n",
        "Now we will implement the backpropagation step for the two layer neural network. \n",
        "\n",
        "You will need the gradient of the Loss w.r.t. $W^{(l)},\\mathbf{b}^{(l)}$ for $l = 1,2$ for all the training samples.  \n",
        "\n",
        "\n",
        "\n",
        "We saw that we can write the gradient of Loss with respect to $W^{(l)}, \\mathbf{b}^{(l)}$ for a single sample as\n",
        "\n",
        "$$\\nabla_{W^{(l)}} Loss_i = \\delta^{(l)} \\mathbf{y}^{(l-1)T},$$  \n",
        "$$\\nabla_{\\mathbf{b}^{(l)}} Loss_i = \\delta^{(l)},$$\n",
        "\n",
        "where \n",
        "$$\\delta^{(l)} = \\nabla_{\\mathbf{z}^{(l)}} Loss_i = \\nabla_{\\mathbf{y}^{(l)}} Loss_i \\odot \\varphi'(\\mathbf{z}^{(l)}).$$ \n",
        "\n",
        "\n",
        "For the the last layer, we can compute $\\delta^{(L)}$ by plugging the value of $\\nabla_{\\mathbf{y}^{(L)}} Loss$ as described above. \n",
        "\n",
        "For the intermediate layers $l<L$, we can write \n",
        "$$\\delta^{(l)} = W^{(l+1)T}\\delta^{(l+1)} \\odot \\varphi'(\\mathbf{z}^{(l)}).$$ \n",
        "\n",
        "\n",
        "\n",
        "**Once we have the gradients $\\nabla_{W^{(l)}} Loss_i, \\nabla_{\\mathbf{b}^{(l)}} Loss_i$ for all $i$. We can compute their average to compute the gradient of the total loss function $\\frac{1}{N} \\sum_{i=1}^N Loss_i$ as**\n",
        "\n",
        "$$\\nabla_{W^{(l)}} Loss = \\frac{1}{N} \\sum_i \\nabla_{W^{(l)}} Loss_i, $$\n",
        "$$ \\nabla_{\\mathbf{b}^{(l)}} Loss = \\frac{1}{N} \\sum_i  \\nabla_{\\mathbf{b}^{(l)}} Loss_i.$$\n",
        "\n",
        "**Please refer to the slides and lectures for more details.**"
      ]
    },
    {
      "cell_type": "code",
      "metadata": {
        "id": "ODa4OXAqAN5G"
      },
      "source": [
        "def backward(Y_true, Y2, intermediate, params):\n",
        "    \n",
        "    # Inputs: \n",
        "      # Y_true -- 1 x N true labels\n",
        "      # Y2 -- 1 x N output of the last layer\n",
        "      # intermediate -- X, Z1, Y1, Z2 \n",
        "      # params -- W1, b1, W2, b2 \n",
        "    \n",
        "    # Outputs: \n",
        "      # grads -- [grad_W1, grad_b1, grad_W2, grad_b2]\n",
        "    \n",
        "    # TODO \n",
        "    X = intermediate[0]\n",
        "    x_transpose = np.transpose(X)\n",
        "    sig_2 = Y2-Y_true\n",
        "    sig_1 = np.dot(params[1].T, sig_2)*sigmoid(intermediate[1])*(1-sigmoid(intermediate[1]))\n",
        "\n",
        "    grad_w1 = np.dot(sig_1, x_transpose)\n",
        "    grad_b1 = sig_1\n",
        "    y1_transpose = np.transpose(intermediate[2])\n",
        "    \n",
        "    grad_w2 = np.dot(sig_2, y1_transpose)\n",
        "    grad_b2 = sig_2\n",
        "    grads = [grad_w1, grad_b1, grad_w2, grad_b2] \n",
        "          \n",
        "    return grads"
      ],
      "execution_count": null,
      "outputs": []
    },
    {
      "cell_type": "markdown",
      "metadata": {
        "id": "GlHu8oIaAN5G"
      },
      "source": [
        "### Optimizer [5 pts]\n",
        "We will use a standard gradient descent-based optimizer to minimize the loss function. You have already implemented gradient descent in HW2. You may have to adjust learning rate that provides you best training/validation performance. In this exercise, we are not using validation data; in practice, you should use it to tune your hyperparameters such as learning rate, network architecture etc.\n",
        "\n",
        "You can use same learning rate for all weights in this assignment. \n",
        "\n",
        "You should update $W^1, \\mathbf{b}^1, W^2, \\mathbf{b}^2$ as \n",
        "$$ W^1 \\gets W^1 - \\alpha \\nabla_{W^1} Loss $$\n",
        "$$ \\mathbf{b}^1 \\gets \\mathbf{b}^1 - \\alpha \\nabla_{\\mathbf{b}^1} Loss $$ \n",
        "$$ W^2 \\gets W^2 - \\alpha \\nabla_{W^2} Loss $$ \n",
        "$$ \\mathbf{b}^2 \\gets \\mathbf{b}^2 - \\alpha \\nabla_{\\mathbf{b}^2} Loss $$ \n",
        "$\\alpha$ is the learning rate. "
      ]
    },
    {
      "cell_type": "code",
      "metadata": {
        "id": "noqJ8U_PAN5G"
      },
      "source": [
        "def GD(params, grads, learning_rate):\n",
        "    \n",
        "    # updated params = old params - learning rate * gradient of Loss computed at old params\n",
        "    # TODO \n",
        "    params[0] = params[0] - learning_rate*grads[0]\n",
        "    params[2] = params[2] - learning_rate*grads[1]\n",
        "    params[1] = params[1] - learning_rate*grads[2]\n",
        "    params[3] = params[3] - learning_rate*grads[3]\n",
        "        \n",
        "    return params"
      ],
      "execution_count": null,
      "outputs": []
    },
    {
      "cell_type": "markdown",
      "metadata": {
        "id": "adhSifEGAN5G"
      },
      "source": [
        "### Train the Model [5 pts]\n",
        "We will train the model using the functions we wrote above. \n",
        "\n",
        "First, we specify the number of nodes in the layers, number of epochs and learning rate. Then we initialize the network."
      ]
    },
    {
      "cell_type": "code",
      "metadata": {
        "id": "lKwAatEkAN5H"
      },
      "source": [
        "layer_dims = [train_x.shape[0],256,1]\n",
        "epochs = 100\n",
        "lr = 0.00001\n",
        "\n",
        "params = TwoLayerNetwork(layer_dims)"
      ],
      "execution_count": null,
      "outputs": []
    },
    {
      "cell_type": "markdown",
      "metadata": {
        "id": "kdi_L3xYAN5H"
      },
      "source": [
        "Then we train the network for the number of epochs specified above. In every epoch, we will do the following:\n",
        "1. Calculate the forward pass to get estimated labels.\n",
        "2. Use the estimated labels calculate loss. We will be recording loss for every epoch.\n",
        "3. Use backpropagation to calculate gradients.\n",
        "4. Use gradient descent to update the weights and biases.\n",
        "\n",
        "You should store the loss value after every epoch in an array ```loss_history```  and print the loss value after every few epochs (say 20). \n"
      ]
    },
    {
      "cell_type": "code",
      "metadata": {
        "id": "QtEPxEleAN5H",
        "colab": {
          "base_uri": "https://localhost:8080/"
        },
        "outputId": "dafea0cd-a259-4990-bcb0-d4d119b0a880"
      },
      "source": [
        "# TODO \n",
        "params = TwoLayerNetwork(layer_dims)\n",
        "loss_history = []\n",
        "for i in range(epochs):\n",
        "  Y2, intermediate = forward(train_x, params) \n",
        "  Loss = CrossEntropyLoss(train_y, Y2) \n",
        "  Loss = sum(Loss[0])/2000\n",
        "  loss_history.append(Loss)\n",
        "  grads = backward(train_y, Y2, intermediate, params)\n",
        "  params = GD(params, grads, lr)\n",
        "  if i%20 == 0:\n",
        "    print(f\"Each {i} epochs's loss: \", Loss)\n",
        " "
      ],
      "execution_count": null,
      "outputs": [
        {
          "output_type": "stream",
          "name": "stdout",
          "text": [
            "Each 0 epochs's loss:  0.677762653608669\n",
            "Each 20 epochs's loss:  0.13739296199940043\n",
            "Each 40 epochs's loss:  0.06772277137375574\n",
            "Each 60 epochs's loss:  0.04606948979840566\n",
            "Each 80 epochs's loss:  0.035435786561474954\n"
          ]
        }
      ]
    },
    {
      "cell_type": "markdown",
      "metadata": {
        "id": "2-7VVZ6iAN5H"
      },
      "source": [
        "Now we will plot the recorded loss values vs epochs. We will observe the training loss decreasing with the epochs."
      ]
    },
    {
      "cell_type": "code",
      "metadata": {
        "id": "Uu8zTsABAN5H",
        "colab": {
          "base_uri": "https://localhost:8080/",
          "height": 280
        },
        "outputId": "9707d7f5-e1c5-469a-d5bd-58b3c4c29f93"
      },
      "source": [
        "plt.figure()\n",
        "plt.plot(loss_history)\n",
        "plt.xlabel(\"Epochs\")\n",
        "plt.ylabel(\"Training Loss\")\n",
        "plt.show()"
      ],
      "execution_count": null,
      "outputs": [
        {
          "output_type": "display_data",
          "data": {
            "text/plain": [
              "<Figure size 432x288 with 1 Axes>"
            ],
            "image/png": "[encoded data removed]"
          },
          "metadata": {
            "needs_background": "light"
          }
        }
      ]
    },
    {
      "cell_type": "markdown",
      "metadata": {
        "id": "8ZlLv1NbAN5H"
      },
      "source": [
        "### Evaluation on test data [5 pts]\n",
        "\n",
        "Now we will be evaluating the accuracy we get from the trained model. We feed training data and test data to the forward model along with the trained parameters. \n",
        "\n",
        "Note that, we need to covert the output probability of the forward pass to binary labels before evaluating accuracy. Since the model provides the posterior probability $p(y = 1 | x)$ in range [0,1]. We can binarize them using 0.5 as a theshold (i.e. if $y_i^{(2)}\\geq 0.5$, $y_i^{(2)} \\gets 1$ otherwise  $y_i^{(2)} \\gets 0$)."
      ]
    },
    {
      "cell_type": "code",
      "metadata": {
        "id": "HKZ7BSZjAN5I",
        "colab": {
          "base_uri": "https://localhost:8080/"
        },
        "outputId": "c2b629c9-47a3-459a-c6a6-5b5f5fdf5138"
      },
      "source": [
        "# TODO \n",
        "Y_thesh = []\n",
        "for x in Y2[0]:\n",
        "  if x >= 0.5:\n",
        "    Y_thesh.append(1)\n",
        "  else:\n",
        "    Y_thesh.append(0)\n",
        "\n",
        "print(\"Training accuracy:\",np.mean(Y_thesh==train_y))\n",
        "\n",
        "\n",
        "\n",
        "Y2_test, intermediate = forward(test_x, params)\n",
        "Y_test_thesh = []\n",
        "for i in Y2_test[0]:\n",
        "  if i >= 0.5:\n",
        "    Y_test_thesh.append(1)\n",
        "  else:\n",
        "    Y_test_thesh.append(0)\n",
        "\n",
        "\n",
        "print(\"Test accuracy:\",np.mean(Y_test_thesh==test_y))"
      ],
      "execution_count": null,
      "outputs": [
        {
          "output_type": "stream",
          "name": "stdout",
          "text": [
            "Training accuracy: 0.9945\n",
            "Test accuracy: 0.988\n"
          ]
        }
      ]
    },
    {
      "cell_type": "markdown",
      "metadata": {
        "id": "Ba-laCd-4OkR"
      },
      "source": [
        "### Visualize some of the correct/miscalassified images [5 pts]\n",
        "\n",
        "Now we will look at some images from training and test sets that were misclassified. \n",
        "\n",
        "Training set. \n",
        "Pick 5 images from each class that are correcly and incorreclty classified. \n",
        "True/False Positive/Negatives\n",
        "\n",
        "Test set. \n",
        "Pick 5 images from each class that are correcly and incorreclty classified. \n",
        "True/False Positive/Negatives\n"
      ]
    },
    {
      "cell_type": "code",
      "metadata": {
        "id": "1O5zZTCn4N18",
        "colab": {
          "base_uri": "https://localhost:8080/",
          "height": 327
        },
        "outputId": "38e61132-5cdf-434a-b054-af4914c5f8fb"
      },
      "source": [
        "import random\n",
        "# TODO \n",
        "# Training set\n",
        "print(\"Training set examples for true/false positive/negative\")\n",
        "Y_hat, caches = forward(train_x, params)\n",
        "\n",
        "Y_hat_thesh = []\n",
        "for i in Y_hat[0]:\n",
        "  if i >= 0.5:\n",
        "    Y_hat_thesh.append(1)\n",
        "  else:\n",
        "    Y_hat_thesh.append(0)\n",
        "\n",
        "\n",
        "corr_list = []\n",
        "incorr_list = []\n",
        "count = 0\n",
        "for i in Y_thesh==train_y:\n",
        "  count += 1\n",
        "  if i == 1:\n",
        "    corr_list.append(count)\n",
        "  else:\n",
        "    incorr_list.append(count)\n",
        "\n",
        "n_img=5\n",
        "train_x_fig = train_x.T\n",
        "train_x_fig = train_x_fig.reshape(2000,28,28)\n",
        "\n",
        "# correct images\n",
        "print(\"Correct images\")\n",
        "plt.figure(figsize=(n_img*2,2))\n",
        "plt.gray()\n",
        "for i in range(n_img):\n",
        "  x = random.randrange(i,len(corr_list))\n",
        "  plt.subplot(1,n_img,i+1)\n",
        "  plt.imshow(train_x_fig[corr_list[x]])\n",
        "plt.show()\n",
        "\n",
        "# incorrect images\n",
        "print(\"Incorrect images\")\n",
        "plt.figure(figsize=(n_img*2,2))\n",
        "plt.gray()\n",
        "for i in range(n_img):\n",
        "  x = random.randrange(i,len(incorr_list))\n",
        "  plt.subplot(1,n_img,i+1)\n",
        "  plt.imshow(train_x_fig[incorr_list[x]])\n",
        "plt.show()"
      ],
      "execution_count": null,
      "outputs": [
        {
          "output_type": "stream",
          "name": "stdout",
          "text": [
            "Training set examples for true/false positive/negative\n",
            "Correct images\n"
          ]
        },
        {
          "output_type": "display_data",
          "data": {
            "text/plain": [
              "<Figure size 720x144 with 5 Axes>"
            ],
            "image/png": "[encoded data removed]"
          },
          "metadata": {
            "needs_background": "light"
          }
        },
        {
          "output_type": "stream",
          "name": "stdout",
          "text": [
            "Incorrect images\n"
          ]
        },
        {
          "output_type": "display_data",
          "data": {
            "text/plain": [
              "<Figure size 720x144 with 5 Axes>"
            ],
            "image/png": "[encoded data removed]"
          },
          "metadata": {
            "needs_background": "light"
          }
        }
      ]
    },
    {
      "cell_type": "code",
      "metadata": {
        "id": "jym9VlP-_0rd",
        "colab": {
          "base_uri": "https://localhost:8080/",
          "height": 327
        },
        "outputId": "a635dc74-afd2-4607-8b28-f90a921a0b05"
      },
      "source": [
        "# Test set\n",
        "print(\"Test set examples for true/false positive/negative\")\n",
        "Y_hat, caches = forward(test_x, params)\n",
        "\n",
        "Y_hat_thesh = []\n",
        "for i in Y_hat[0]:\n",
        "  if i >= 0.5:\n",
        "    Y_hat_thesh.append(1)\n",
        "  else:\n",
        "    Y_hat_thesh.append(0)\n",
        "\n",
        "\n",
        "corr_list = []\n",
        "incorr_list = []\n",
        "count = 0\n",
        "for i in Y_hat_thesh==test_y:\n",
        "  count += 1\n",
        "  if i == 1:\n",
        "    corr_list.append(count)\n",
        "  else:\n",
        "    incorr_list.append(count)\n",
        "\n",
        "n_img=5\n",
        "\n",
        "test_x_fig = test_x.T\n",
        "test_x_fig = test_x_fig.reshape(2000,28,28)\n",
        "\n",
        "# correct images\n",
        "print(\"Correct images\")\n",
        "plt.figure(figsize=(n_img*2,2))\n",
        "plt.gray()\n",
        "for i in range(n_img):\n",
        "  x = random.randrange(i,len(corr_list))\n",
        "  plt.subplot(1,n_img,i+1)\n",
        "  plt.imshow(test_x_fig[corr_list[x]])\n",
        "plt.show()\n",
        "\n",
        "# incorrect images\n",
        "print(\"Incorrect images\")\n",
        "plt.figure(figsize=(n_img*2,2))\n",
        "plt.gray()\n",
        "for i in range(n_img):\n",
        "  x = random.randrange(i,len(incorr_list))\n",
        "  plt.subplot(1,n_img,i+1)\n",
        "  plt.imshow(test_x_fig[incorr_list[x]])\n",
        "plt.show()"
      ],
      "execution_count": null,
      "outputs": [
        {
          "output_type": "stream",
          "name": "stdout",
          "text": [
            "Test set examples for true/false positive/negative\n",
            "Correct images\n"
          ]
        },
        {
          "output_type": "display_data",
          "data": {
            "text/plain": [
              "<Figure size 720x144 with 5 Axes>"
            ],
            "image/png": "[encoded data removed]"
          },
          "metadata": {
            "needs_background": "light"
          }
        },
        {
          "output_type": "stream",
          "name": "stdout",
          "text": [
            "Incorrect images\n"
          ]
        },
        {
          "output_type": "display_data",
          "data": {
            "text/plain": [
              "<Figure size 720x144 with 5 Axes>"
            ],
            "image/png": "[encoded data removed]"
          },
          "metadata": {
            "needs_background": "light"
          }
        }
      ]
    },
    {
      "cell_type": "markdown",
      "metadata": {
        "id": "XBEj5ST72SG6"
      },
      "source": [
        "\n",
        "\n",
        "---\n",
        "\n"
      ]
    },
    {
      "cell_type": "markdown",
      "metadata": {
        "id": "zoli2hpzp2gy"
      },
      "source": [
        "## Question 2. Multiclass classification [35 pts] \n",
        "\n",
        "Now we will build a classifier to separate all the digits. For this purpose, we will only change the last layer and the loss. \n",
        "\n",
        "\n",
        "Instead of using a single output, we will provide 10 outputs; and instead of using a binary cross entropy loss, we will use mutli-class cross entropy loss. \n",
        "\n",
        "In multinomal logistic regression (aka softmax regression), we define the posterior probability of label $y \\in \\{0,\\ldots, K-1\\}$ as \n",
        "\n",
        "\n",
        "$$p(y = c | \\mathbf{x}) = \\frac{\\exp(\\mathbf{w}_c^T\\mathbf{x})}{\\sum_{k=1}^K \\exp(\\mathbf{w}_k^T\\mathbf{x})} = \\mathbf{p}_c.$$ \n",
        "\n",
        "In other words, last layer of the network provides a probability vector $\\mathbf{p} \\in \\mathbb{R}^K$, such that each $0 \\le \\mathbf{p}_c \\le 1$ and $\\sum_c \\mathbf{p}_c = 1$. "
      ]
    },
    {
      "cell_type": "markdown",
      "metadata": {
        "id": "vxGPKVAUBO-w"
      },
      "source": [
        "### Softmax function [5 pts]\n",
        "\n",
        "Let us first define the softmax function, which is a multinomal extension of the sigmoid function that maps a vector of length $K$ to a probability vector. \n",
        "\n",
        "We can define ```softmax``` function on a vector $\\mathbf{z} \\in \\mathbb{R}^K$ as $\\mathbf{p} = \\text{softmax}(\\mathbf{z})$: \n",
        "\n",
        "$$\\mathbf{p}_c(\\mathbf{z}) = \\frac{\\exp(\\mathbf{z}_c)}{\\sum_{k=1}^K \\exp(\\mathbf{z}_k)}$$\n",
        "\n"
      ]
    },
    {
      "cell_type": "code",
      "metadata": {
        "id": "wezeelLcBSCo"
      },
      "source": [
        "def softmax(Z):\n",
        "    # Z -- K x N numpy.ndarray, K is the number of classes, N is the number of samples\n",
        "    # TODO  \n",
        "    probs = np.exp(Z)\n",
        "    probs /= np.sum(probs,axis=0,keepdims=True)\n",
        "    return probs"
      ],
      "execution_count": null,
      "outputs": []
    },
    {
      "cell_type": "markdown",
      "metadata": {
        "id": "9J53N9_wWMUf"
      },
      "source": [
        "We have to note that the numerical range of floating point numbers in numpy is limited. For `float64` the upper bound is $10^{308}$. For exponential, its not difficult to overshoot that limit, in which case python returns `nan`.\n",
        "\n",
        "To make our softmax function numerically stable, we simply normalize the values in the vector, by multiplying the numerator and denominator with a constant `C` as\n",
        "\n",
        "\\begin{align*}\n",
        "\\mathbf{p}_c  &= \\frac{\\exp(\\mathbf{z}_c)}{\\sum_{k=1}^K \\exp(\\mathbf{z}_k)} \\\\\n",
        "& = \\frac{C\\exp(\\mathbf{z}_c)}{C\\sum_{k=1}^K \\exp(\\mathbf{z}_k)}\\\\\n",
        "& = \\frac{\\exp(\\mathbf{z}_c + \\log C)}{C\\sum_{k=1}^K \\exp(\\mathbf{z}_k + \\log C)}.\n",
        "\\end{align*}\n",
        "\n",
        "We can choose an arbitrary value for `log(C)` term, but generally `log(C) = −max(z)` is chosen\n"
      ]
    },
    {
      "cell_type": "code",
      "metadata": {
        "id": "JzmyZdoqXO_v"
      },
      "source": [
        "def stable_softmax(Z): \n",
        "    # Z -- K x N numpy.ndarray, K is the number of classes, N is the number of samples\n",
        "    # TODO (this is optional)\n",
        "    \n",
        "    probs = np.exp(Z-max(Z))/(pow(10,-max(Z))*sum(np.exp(Z-max(Z)))) \n",
        "    return probs"
      ],
      "execution_count": null,
      "outputs": []
    },
    {
      "cell_type": "markdown",
      "metadata": {
        "id": "tSGHPdySbpbj"
      },
      "source": [
        "### Derivative of the softmax function\n",
        "\n",
        "We can show that the derivative of the __softmax__ function with respect to any input can be written as \n",
        "\n",
        "$$ \\frac{\\partial \\mathbf{p}_i}{\\partial \\mathbf{z}_j} = \\begin{cases} \\mathbf{p}_i(1-\\mathbf{p}_j) & i = j \\\\ \\mathbf{p}_i (-\\mathbf{p}_j) & i \\ne j. \\end{cases}$$\n",
        "\n",
        "[More info here](https://deepnotes.io/softmax-crossentropy)\n"
      ]
    },
    {
      "cell_type": "markdown",
      "metadata": {
        "id": "C0qcy_JAArEo"
      },
      "source": [
        "### Multiclass cross entropy loss function [5 pts]\n",
        "\n",
        "We will minimize the cross entropy loss. You will use the true labels and predicted labels of a batch of N samples. \n",
        "\n",
        "The multi-class cross entropy loss for $i^{th}$ sample can be written as \n",
        "$$Loss_i = -\\sum_c \\mathbf{1}(y_i = c) \\log \\mathbf{p}_c $$\n",
        "where $y_i$ is the true label and \n",
        "\n",
        "$$\\mathbf{1}(y_i = c) = \\begin{cases} 1 & y_i =c \\\\ 0 & \\text{otherwise} \\end{cases}$$ \n",
        "is an indicator function. \n",
        "\n",
        "We can find the average loss for a batch of N samples as $Loss=\\frac{1}{N}\\sum_{i=1}^{N} Loss_i$. \n"
      ]
    },
    {
      "cell_type": "code",
      "metadata": {
        "id": "tebVzE2SAoTB"
      },
      "source": [
        "def MultiClassCrossEntropyLoss(Y_true, probs):\n",
        "  \n",
        "  # TODO \n",
        "  # Write your code here\n",
        "\n",
        "  # probs -- K x N array\n",
        "  # Y_true -- 1 x N array \n",
        "  # loss --  sum Loss_i over N samples \n",
        "  Loss = np.zeros([1, len(Y_true)])\n",
        "  for i in range(len(Y_true)):\n",
        "    P_ = probs[int(Y_true[i]), i]\n",
        "    Loss[0,i] = -np.log(P_+1e-7)\n",
        "  Loss = np.mean(Loss)\n",
        "  return Loss"
      ],
      "execution_count": null,
      "outputs": []
    },
    {
      "cell_type": "markdown",
      "metadata": {
        "id": "tbRPrVLpjFIo"
      },
      "source": [
        "### Derivative of the cross entropy loss \n",
        "\n",
        "Let us assume that $\\mathbf{p} = \\text{softmax}(\\mathbf{z})$. \n",
        "\n",
        "Note that the derivative of the loss w.r.t. $\\mathbf{p}_j$ can be written as \n",
        "$$\\frac{\\partial Loss_i }{\\partial \\mathbf{p}_j} = \\begin{cases} -1/\\mathbf{p}_j & j = y_i \\\\ 0 & j \\ne y_i \\end{cases}. $$\n",
        "\n",
        "Note that we can use _total derivative_ to compute the derivative of the loss for $i$th sample w.r.t. $j$th entry in $\\mathbf{z}$ as\n",
        "\n",
        "\\begin{align*}\n",
        "\\frac{\\partial Loss_i}{\\partial \\mathbf{z}_j} = \\sum_c \\frac{\\partial Loss_i}{\\partial \\mathbf{p}_c}\\frac{\\partial \\mathbf{p}_c}{\\partial \\mathbf{z}_j}.\n",
        "\\end{align*}\n",
        "\n",
        "From our discussion above, we know that the $\\frac{\\partial Loss_i}{\\partial \\mathbf{p}_c} = 0$ if $c \\ne y_i$. \n",
        "\n",
        "\n",
        "\\begin{align*}\n",
        "\\frac{\\partial Loss_i}{\\partial \\mathbf{z}_j} &= -\\frac{1}{\\mathbf{p}_c} \\frac{\\partial \\mathbf{p}_c}{\\partial \\mathbf{z}_j} \\\\\n",
        "& = \\begin{cases} \\mathbf{p}_j - 1 & j = y_i \\\\ \\mathbf{p}_j & j \\ne y_i. \\end{cases}\n",
        "\\end{align*}\n",
        "\n",
        "Therefore, $$\\delta^{(2)} = \\nabla_{\\mathbf{z}^{(2)}} Loss_i = \\mathbf{p} - \\mathbf{1}_{y_i}.$$\n",
        "\n",
        "where $\\mathbf{1}_{y_i}$ is a __one-hot vector__ that has length $K$ and is zero everywhere except 1 at index same as $y_i$. \n"
      ]
    },
    {
      "cell_type": "markdown",
      "metadata": {
        "id": "462ORdiFLdz2"
      },
      "source": [
        "### Training data\n",
        "\n",
        "Let us pick training data for multi-class classification. \n",
        "\n",
        "Pick same number of images from each class for training and create arrays for input and output. \n",
        "\n",
        "```\n",
        "# train_x -- N x 784 array of training input\n",
        "# train_y -- N x 1 array of labels \n",
        "```  \n",
        "\n",
        "If you use 1000 images from each class N = 10000. You can increase the number of training samples if you like. You may also use unequal number of images in each class. \n",
        "\n",
        "We also need to transpose the dimension of the data so that their size becomes $784\\times N$. It will be helpful to feed it to our model based on our notations."
      ]
    },
    {
      "cell_type": "code",
      "metadata": {
        "id": "BZ6Z-yPgL3xm",
        "colab": {
          "base_uri": "https://localhost:8080/"
        },
        "outputId": "34843f93-d25d-4831-e25a-9ec7ef118482"
      },
      "source": [
        "# Pick training samples \n",
        "num_samples = 1000\n",
        "\n",
        "# Training data\n",
        "x = np.zeros((0,784))\n",
        "y = np.zeros((0))\n",
        "for label in range(10):\n",
        "  x1 = x_train[y_train == label]  \n",
        "  x1 = x1[:num_samples]\n",
        "  y1 = y_train[y_train == label]\n",
        "  y1 = y1[:num_samples]\n",
        "  \n",
        "  x = np.concatenate((x,x1),axis=0)\n",
        "  y = np.concatenate((y,y1),axis=0)\n",
        "\n",
        "train_x = x\n",
        "train_y = y\n",
        "print(\"Training data shape:\", train_x.shape)\n",
        "\n",
        "\n",
        "# Test data\n",
        "test_x = x_test\n",
        "test_y = y_test \n",
        "print(\"Test data shape:\", test_x.shape)\n",
        "\n",
        "# reshape data \n",
        "train_x = train_x.T\n",
        "test_x = test_x.T\n",
        "print(\"Training data shape:\", train_x.shape) \n",
        "print(\"Test data shape:\", test_x.shape)"
      ],
      "execution_count": null,
      "outputs": [
        {
          "output_type": "stream",
          "name": "stdout",
          "text": [
            "Training data shape: (10000, 784)\n",
            "Test data shape: (10000, 784)\n",
            "Training data shape: (784, 10000)\n",
            "Test data shape: (784, 10000)\n"
          ]
        }
      ]
    },
    {
      "cell_type": "markdown",
      "metadata": {
        "id": "xoXHKji6L3xo"
      },
      "source": [
        "### Network Architecture\n",
        "\n",
        "We will be using a two layer neural network in our experiment. The input layer has 784 nodes, the hidden layer will have 256 nodes and the output layer will have 10 nodes. First layer will have __sigmoid__ activation and second layer will have __softmax__ activation.\n",
        "\n",
        "The equations for feedforward operation will be as follows.\n",
        "\n",
        "$$\\mathbf{z}^{(1)}=W^{(1)} \\mathbf{x}+ \\mathbf{b}^{(1)}\\\\\\mathbf{y}^{(1)}=\\text{sigmoid}(\\mathbf{z}^{(1)})\\\\\\mathbf{z}^{(2)}=W^{(2)}  \\mathbf{y}^{(1)}+ \\mathbf{b}^{(2)} \\\\\\mathbf{p} = \\mathbf{y}^{(2)}=\\text{softmax}(\\mathbf{z}^{(2)})$$\n",
        "\n",
        "where $\\mathbf{x}\\in \\mathbb{R}^{784}$ is the input layer, $\\mathbf{y}^{(1)}\\in \\mathbb{R}^{256}$ is the hidden layer, $\\mathbf{y}^{(2)} \\in \\mathbb{R}$ is the output layer, $W^{(1)}\\in \\mathbb{R}^{256\\times 784}$ is the first layer weights, $W^{(2)}\\in \\mathbb{R}^{10\\times 256}$ is the second layer weights, $\\mathbf{b}^{(1)}\\in \\mathbb{R}^{256}$ is the first layer bias, $\\mathbf{b}^{(2)}\\in \\mathbb{R}^{10}$ is the second layer bias vector."
      ]
    },
    {
      "cell_type": "markdown",
      "metadata": {
        "id": "2Fqsp1BvL3xp"
      },
      "source": [
        "### Network initialization [5 pts]\n",
        "\n",
        "We initialize the weights for $W^{(1)}$ and $W^{(2)}$ with random values drawn from normal distribution with zero mean and 0.01 standard deviation. We will initialize bias vectors $\\mathbf{b}^{(1)}$ and $\\mathbf{b^{(2)}}$ with zero values. \n",
        "\n",
        "We can fix the seed for random initialization for reproducibility."
      ]
    },
    {
      "cell_type": "code",
      "metadata": {
        "id": "nu-3CQlRL3xp"
      },
      "source": [
        "def TwoLayerNetwork(layer_dims=[784,256,10]):\n",
        "    # TODO \n",
        "    # Your code goes here\n",
        "\n",
        "    # Fix the seed\n",
        "    np.random.seed(3)\n",
        "    \n",
        "    #Initialize the weights\n",
        "    w1 = np.random.normal(0, 0.01, size=(256,784))\n",
        "    w2 = np.random.normal(0, 0.01, size=(10,256))\n",
        "    b1 = np.zeros((256,1))\n",
        "    b2 = np.zeros((10,1))\n",
        "    params = [w1, w2, b1, b2]\n",
        "    \n",
        "    return params"
      ],
      "execution_count": null,
      "outputs": []
    },
    {
      "cell_type": "markdown",
      "metadata": {
        "id": "av7l9tOKUuAN"
      },
      "source": [
        "### Forward propagation \n",
        "Next, we will write the code for the forward pass for two layer network. Each layer consists of an affine function (fully-connected layer) followed by an activation function. You wil also return the intermediate results ($\\mathbf{x}, \\mathbf{z}^{(1)}, \\mathbf{y}^{(1)}, \\mathbf{z}^{(2)}$) in addition to final output ($\\mathbf{y}^{(2)}$). You will need the intermediate outputs for the backpropagation step."
      ]
    },
    {
      "cell_type": "code",
      "metadata": {
        "id": "kLSoTwFkUuAO"
      },
      "source": [
        "def forward(X, params):\n",
        "    \n",
        "    # TODO \n",
        "    # Write your codes here\n",
        "\n",
        "    # X -- 784 x N array \n",
        "    # params -- \n",
        "      # W1 -- 256 x 784 matrix\n",
        "      # b1 -- 256 x 1 vector\n",
        "      # W2 -- 10 x 256 matrix\n",
        "      # b2 -- 10 x 1 scalar \n",
        "    # probs -- 10 x N output \n",
        "    z1 = np.dot(params[0], X) + params[2]\n",
        "    y1 = sigmoid(z1)\n",
        "    z2 = np.dot(params[1], y1) + params[3]\n",
        "    probs = softmax(z2)\n",
        "    intermediate = [X, z1, y1, z2] \n",
        "\n",
        "    return probs, intermediate"
      ],
      "execution_count": null,
      "outputs": []
    },
    {
      "cell_type": "markdown",
      "metadata": {
        "id": "Z3QjvXHIUuAO"
      },
      "source": [
        "### Backpropagration step [10 pts]\n",
        "\n",
        "Now we will implement the backpropagation step for the two layer neural network using softmax layer and loss function. \n",
        "\n",
        "\n",
        "You will need the gradient of the Loss w.r.t. $W^{(l)},\\mathbf{b}^{(l)}$ for $l = 1,2$ for all the training samples.  \n",
        "\n",
        "We saw that we can write the gradient of Loss with respect to $W^{(l)}, \\mathbf{b}^{(l)}$ for a single sample as\n",
        "\n",
        "$$\\nabla_{W^{(l)}} Loss_i = \\delta^{(l)} \\mathbf{y}^{(l-1)T},$$  \n",
        "$$\\nabla_{\\mathbf{b}^{(l)}} Loss_i = \\delta^{(l)},$$\n",
        "\n",
        "\n",
        "where \n",
        "$$\\delta^{(l)} = \\nabla_{\\mathbf{z}^{(l)}} Loss = \\nabla_{\\mathbf{y}^{(l)}} Loss \\odot \\varphi'(\\mathbf{z}^{(l)}).$$ \n",
        "\n",
        "We saw above that for an $i$th sample, $\\delta^{(2)} = \\nabla_{\\mathbf{z}^{(2)}} Loss_i = \\mathbf{p} - \\mathbf{1}_{y_i},$ where $\\mathbf{1}_{y_i}$ is a __one-hot vector__ that has length $K$ and is zero everywhere except 1 at index same as $y_i$ and $\\mathbf{p}$ is the outpu probability vector for the $i$th sample. \n",
        "\n",
        "\n",
        "**Once we have the gradients $\\nabla_{W^{(l)}} Loss_i, \\nabla_{\\mathbf{b}^{(l)}} Loss_i$ for all $i$. We can compute their average to compute the gradient of the total loss function as**\n",
        "\n",
        "$$\\nabla_{W^{(l)}} Loss = \\frac{1}{N} \\sum_i \\nabla_{W^{(l)}} Loss_i, $$\n",
        "$$ \\nabla_{\\mathbf{b}^{(l)}} Loss = \\frac{1}{N} \\sum_i  \\nabla_{\\mathbf{b}^{(l)}} Loss_i.$$\n",
        "\n",
        "**Please refer to the slides and lectures for more details.**"
      ]
    },
    {
      "cell_type": "code",
      "metadata": {
        "id": "T0hPvx0SUuAP"
      },
      "source": [
        "def backward(Y_true, probs, intermediate, params):\n",
        "    \n",
        "    # Inputs: \n",
        "      # Y_true -- true labels\n",
        "      # probs -- 10 x N output of the last layer\n",
        "      # intermediate -- X, Z1, Y1, Z2 \n",
        "      # params -- W1, b1, W2, b2 \n",
        "    \n",
        "    # Outputs: \n",
        "      # grads -- [grad_W1, grad_b1, grad_W2, grad_b2]\n",
        "    \n",
        "    # TODO \n",
        "    # Write your codes here\n",
        "    x_transpose = np.transpose(intermediate[0])\n",
        "    Y_onehot = np.zeros(probs.shape)\n",
        "    for i in range(probs.shape[1]):\n",
        "      Y_onehot[int(Y_true[i]), i] = 1\n",
        "    \n",
        "    sigma2 = probs - Y_onehot\n",
        "\n",
        "    sigma1 = np.dot(params[1].T, sigma2)*sigmoid(intermediate[1])*(1-sigmoid(intermediate[1]))\n",
        "\n",
        "    grad_W1 = np.dot(sigma1, x_transpose)\n",
        "    grad_b1 = sigma1\n",
        "    y1_transpose = np.transpose(intermediate[2])\n",
        "\n",
        "    \n",
        "    # sigma2 = probs - Y_onehot\n",
        "    grad_W2 = np.dot(sigma2, y1_transpose)\n",
        "    grad_b2 = sigma2\n",
        "    grads = [grad_W1, grad_b1, grad_W2, grad_b2]    \n",
        "          \n",
        "    return grads\n",
        "\n"
      ],
      "execution_count": null,
      "outputs": []
    },
    {
      "cell_type": "markdown",
      "metadata": {
        "id": "1DTxxcDTvVQD"
      },
      "source": [
        "### Train the model [5 pts]\n",
        "We will use the forward and backward functions defined above with the same optimizer defined in the previous question to train our multi-class classificaiton model. \n",
        "\n",
        "We will specify the number of nodes in the layers, number of epochs and learning rate and initialize the network"
      ]
    },
    {
      "cell_type": "code",
      "metadata": {
        "id": "xmhkhUisUuAQ"
      },
      "source": [
        "layer_dims = [train_x.shape[0],256,10]\n",
        "epochs = 100\n",
        "lr = 0.00001\n",
        "\n",
        "params = TwoLayerNetwork(layer_dims)"
      ],
      "execution_count": null,
      "outputs": []
    },
    {
      "cell_type": "markdown",
      "metadata": {
        "id": "9DZAfG5QUuAQ"
      },
      "source": [
        "Then we train the network for the number of epochs specified above. In every epoch, we will do the following:\n",
        "1. Calculate the forward pass to get estimated labels.\n",
        "2. Use the estimated labels calculate loss. We will be recording loss for every epoch.\n",
        "3. Use backpropagation to calculate gradients.\n",
        "4. Use gradient descent to update the weights and biases.\n",
        "\n",
        "You should store the loss value after every epoch in an array ```loss_history```  and print the loss value after every few epochs (say 20). \n"
      ]
    },
    {
      "cell_type": "code",
      "metadata": {
        "id": "P1zSP6g8UuAQ",
        "colab": {
          "base_uri": "https://localhost:8080/"
        },
        "outputId": "5fd44158-b07d-44ed-ac08-4e482847e43f"
      },
      "source": [
        "# TODO \n",
        "# Write your codes here\n",
        "N = 10000\n",
        "loss_history = []\n",
        "for i in range(epochs):\n",
        "  probs, intermediate = forward(train_x, params) # Get the eastimated labels\n",
        "  loss = MultiClassCrossEntropyLoss(train_y, probs) # Calculate the loss between true label and eastimated labels\n",
        "  loss_history.append(loss)\n",
        "  grads = backward(train_y, probs, intermediate, params)\n",
        "  params = GD(params, grads, lr)\n",
        "  if i%20 == 0:\n",
        "    print(f\"Each {i} epochs's loss: \", loss)"
      ],
      "execution_count": null,
      "outputs": [
        {
          "output_type": "stream",
          "name": "stdout",
          "text": [
            "Each 0 epochs's loss:  0.34285421129902127\n",
            "Each 20 epochs's loss:  0.24185762048038478\n",
            "Each 40 epochs's loss:  0.19401080246863622\n",
            "Each 60 epochs's loss:  0.15589841312161365\n",
            "Each 80 epochs's loss:  0.14101662098827059\n"
          ]
        }
      ]
    },
    {
      "cell_type": "markdown",
      "metadata": {
        "id": "mAtKFEjTUuAQ"
      },
      "source": [
        "Now we will plot the recorded loss values vs epochs. We will observe the training loss decreasing with the epochs."
      ]
    },
    {
      "cell_type": "code",
      "metadata": {
        "id": "Hw14IunrUuAQ",
        "colab": {
          "base_uri": "https://localhost:8080/",
          "height": 280
        },
        "outputId": "ec586480-1dd9-40b5-e367-ca05c5cbe1e0"
      },
      "source": [
        "plt.figure()\n",
        "plt.plot(loss_history)\n",
        "plt.xlabel(\"Epochs\")\n",
        "plt.ylabel(\"Training Loss\")\n",
        "plt.show()"
      ],
      "execution_count": null,
      "outputs": [
        {
          "output_type": "display_data",
          "data": {
            "text/plain": [
              "<Figure size 432x288 with 1 Axes>"
            ],
            "image/png": "[encoded data removed]"
          },
          "metadata": {
            "needs_background": "light"
          }
        }
      ]
    },
    {
      "cell_type": "markdown",
      "metadata": {
        "id": "Pf4fN1udUuAR"
      },
      "source": [
        "### Evaluation on test data [5 pts]\n",
        "\n",
        "Now we will be evaluating the accuracy we get from the trained model. We feed training data and test data to the forward model along with the trained parameters. \n",
        "\n",
        "Note that, we need to convert the (probability) output of the forward pass into labels before evaluating accuracy. We can assign label based on the maximum probability. \n",
        "\n",
        "We assign estimated labels $$\\hat{y}_i = \\arg \\max_c  \\mathbf{p}_c $$ for every probility vector. "
      ]
    },
    {
      "cell_type": "code",
      "metadata": {
        "id": "KAhOtQigUuAR",
        "colab": {
          "base_uri": "https://localhost:8080/"
        },
        "outputId": "654c3ae2-62a3-480d-9b89-05f31f83cf6e"
      },
      "source": [
        "# TODO  \n",
        "probs_east_lab = np.argmax(probs, axis=0)\n",
        "\n",
        "print(\"Training accuracy:\",np.mean(probs_east_lab==train_y))\n",
        "\n",
        "probs_test, intermediate = forward(test_x, params)\n",
        "\n",
        "probs_test_east_lab = np.argmax(probs, axis=0)\n",
        "test_y_sorted = sorted(test_y)\n",
        "print(\"Test accuracy:\",np.mean(probs_test_east_lab == test_y_sorted))"
      ],
      "execution_count": null,
      "outputs": [
        {
          "output_type": "stream",
          "name": "stdout",
          "text": [
            "Training accuracy: 0.9699\n",
            "Test accuracy: 0.9086\n"
          ]
        }
      ]
    },
    {
      "cell_type": "markdown",
      "metadata": {
        "id": "iLjwg5wjMcyB"
      },
      "source": [
        "### Visualize some of the correct/miscalassified images [optional]\n",
        "\n",
        "Now we will look at some images from training and test sets that were misclassified. \n",
        "\n",
        "Training set. \n",
        "Pick example from each class that are correcly and incorreclty classified. \n",
        "True/False Positive/Negatives\n",
        "\n",
        "Test set. \n",
        "Pick examples from each class that are correcly and incorreclty classified. \n",
        "True/False Positive/Negatives\n"
      ]
    },
    {
      "cell_type": "code",
      "metadata": {
        "id": "R-NtpDz-Mkub",
        "colab": {
          "base_uri": "https://localhost:8080/",
          "height": 327
        },
        "outputId": "25fceae8-7f1d-4e4e-f922-5afe73dd6242"
      },
      "source": [
        "# TODO \n",
        "import random\n",
        "# TODO \n",
        "# Your code goes here ...\n",
        "# Training set\n",
        "print(\"Training set examples for true/false positive/negative\")\n",
        "P1, caches = forward(train_x, params)\n",
        "\n",
        "# your code goes here...\n",
        "P1 = np.argmax(P1, axis=0)\n",
        "\n",
        "corr_list = []\n",
        "incorr_list = []\n",
        "count = 0\n",
        "for i in P1==train_y:\n",
        "  count += 1\n",
        "  if i == 1:\n",
        "    corr_list.append(count)\n",
        "  else:\n",
        "    incorr_list.append(count)\n",
        "\n",
        "n_img=5\n",
        "\n",
        "train_x_fig = train_x.T\n",
        "train_x_fig = train_x_fig.reshape(10000,28,28)\n",
        "\n",
        "# correct images\n",
        "print(\"Correct images\")\n",
        "plt.figure(figsize=(n_img*2,2))\n",
        "plt.gray()\n",
        "for i in range(n_img):\n",
        "  x = random.randrange(i,len(corr_list))\n",
        "  plt.subplot(1,n_img,i+1)\n",
        "  plt.imshow(train_x_fig[corr_list[x]])\n",
        "plt.show()\n",
        "\n",
        "# incorrect images\n",
        "print(\"Incorrect images\")\n",
        "plt.figure(figsize=(n_img*2,2))\n",
        "plt.gray()\n",
        "for i in range(n_img):\n",
        "  x = random.randrange(i,len(incorr_list))\n",
        "  plt.subplot(1,n_img,i+1)\n",
        "  plt.imshow(train_x_fig[incorr_list[x]])\n",
        "plt.show()"
      ],
      "execution_count": null,
      "outputs": [
        {
          "output_type": "stream",
          "name": "stdout",
          "text": [
            "Training set examples for true/false positive/negative\n",
            "Correct images\n"
          ]
        },
        {
          "output_type": "display_data",
          "data": {
            "text/plain": [
              "<Figure size 720x144 with 5 Axes>"
            ],
            "image/png": "[encoded data removed]"
          },
          "metadata": {
            "needs_background": "light"
          }
        },
        {
          "output_type": "stream",
          "name": "stdout",
          "text": [
            "Incorrect images\n"
          ]
        },
        {
          "output_type": "display_data",
          "data": {
            "text/plain": [
              "<Figure size 720x144 with 5 Axes>"
            ],
            "image/png": "[encoded data removed]"
          },
          "metadata": {
            "needs_background": "light"
          }
        }
      ]
    },
    {
      "cell_type": "markdown",
      "metadata": {
        "id": "tU1ZfPTjv-jm"
      },
      "source": [
        "### Note about implementation\n",
        "\n",
        "This is a note on two problems I have seen in the past and how they can be easily fixed. \n",
        "\n",
        "1. Summation along different axes ? \n",
        "\n",
        "2. Summation of gradients over samples ? \n",
        "\n",
        "\n",
        "\n",
        "\n",
        "**1. Summation to create probability vectors in the Softmax function**\n",
        "\n",
        "Suppose X is a d x N array, in our case, it is 784 x 10000. \n",
        "\n",
        "`Z2 = W2 Y1 + b2  will be 10 x 10000 array `\n",
        "\n",
        "\n",
        "\n",
        "`softmax(Z2)` will be a `10 x 10000` array in which we want to apply a softmax function on every column of `Z2` by first computing exponential and then normalizing the column to sum to 1, which is needed for it to be a probability vector. \n",
        "\n",
        "\n",
        "\n",
        "\n",
        "We can do that as \n",
        "```\n",
        "probs = np.exp(Z2) \n",
        "\n",
        "# now you want to sum up each column and divide the column by the sum so that each column is a valid probability vector\n",
        "\n",
        "probs /= np.sum(probs,axis=0,keepdims=True) # this makes sum of each column to 1\n",
        "```\n",
        "\n",
        "The **WRONG** thing to do is\n",
        "```\n",
        "probs /= np.sum(probs) \n",
        "# This is WRONG. np.sum() computes sum of the entire array. \n",
        "```\n",
        "\n",
        "\n",
        "\n",
        "**2. Computing gradient for the entire loss function**\n",
        "\n",
        "(this involves summation of N rank-one matrices in our notation.)\n",
        "\n",
        "\n",
        "\n",
        "\n",
        "Suppose you have computed delta1, delta2 properly\n",
        "\n",
        "\n",
        "\n",
        "\n",
        "Let's assume you computed\n",
        "```\n",
        "# delta2 is a 10 x 10000 array\n",
        "# Y1 is a 256 x 10000 array\n",
        "# N is 10000\n",
        "# grad_W2 should be a 10 x 256 array\n",
        "```\n",
        "\n",
        "\n",
        "\n",
        "We can expand the formula for the gradient of the overall loss. \n",
        "\n",
        "$$\\nabla_{W^{(2)}} Loss = \\frac{1}{N}\\sum_i \\nabla_{W^{(2)}} Loss_i, $$ \n",
        "\n",
        "where \n",
        "\n",
        "$$\\nabla_{W^{(2)}} Loss_i = \\delta^{(2)} y^{(1)T}$$ is the gradient of the loss for $i$th training sample, where $\\delta^{(2)}$ is a column of length 10 and $y^{(1)T}$ is a row of length 256, corresponding to $i$th training sample. Matrix product of column and row gives a a rank-1 matrix of size 10 x 256. \n",
        "\n",
        "\n",
        "\n",
        "\n",
        "To compute the gradient of loss over all the training samples, we need to average the rank-1 matrices for all N training samples.\n",
        "\n",
        "\n",
        "We can write the code for that as \n",
        "\n",
        "```\n",
        "# Sum gradient of loss for each sample\n",
        "for i in range(N):\n",
        "\tgrad_W2 += (1/N)*delta2[:,i,None].dot(Y1[:,i,None].T)\n",
        "\n",
        "# OR we can compute grad_W2 without for loop as \n",
        "grad_W2 = 1/N*np.dot(delta2,Y1.T)\n",
        "```\n",
        "\n",
        "To see why this is true, you can convince yourself that matrix product of an `M x N` matrix with an `N x K` matrix can be written as a summation of N `M x K` rank-one matricess. \n",
        "\n",
        "\n",
        "\n",
        "\n",
        "Suppose \n",
        "\n",
        "$A = [\\mathbf{a}_1 ~ \\cdots ~ \\mathbf{a}_N] \\text{ and } B  = \\begin{bmatrix} \\mathbf{b}_1^T \\\\ \\vdots \\\\ \\mathbf{b}_N^T \\end{bmatrix},$\n",
        "\n",
        "where $\\mathbf{a}_i, \\mathbf{b}_i$ are columns of length $M, K$, respectively.  \n",
        "\n",
        " \n",
        "\n",
        "We can write $AB$ as \n",
        "\n",
        "\n",
        "\n",
        "\n",
        "$$AB = \\sum_{i = 1}^N \\mathbf{a}_i \\mathbf{b}_i^T.$$ \n",
        "\n",
        "\n",
        "\n",
        "\n",
        " \n"
      ]
    },
    {
      "cell_type": "markdown",
      "source": [
        "---\n",
        "## Submission instructions\n",
        "1. Download this Colab to ipynb, and convert it to PDF. Follow similar steps as [here](https://stackoverflow.com/questions/53460051/convert-ipynb-notebook-to-html-in-google-colab) but convert to PDF.\n",
        " - Download your .ipynb file. You can do it using only Google Colab. `File` -> `Download` -> `Download .ipynb`\n",
        " - Reupload it so Colab can see it. Click on the `Files` icon on the far left to expand the side bar. You can directly drag the downloaded .ipynb file to the area. Or click `Upload to session storage` icon and then select & upload your .ipynb file.\n",
        " - Conversion using %%shell. \n",
        " ```\n",
        "!sudo apt-get update\n",
        "!sudo apt-get install texlive-xetex texlive-fonts-recommended texlive-generic-recommended\n",
        "!jupyter nbconvert --log-level CRITICAL --to pdf name_of_hw.ipynb\n",
        "  ```\n",
        " - Your PDF file is ready. Click 3 dots and `Download`.\n",
        "\n",
        "\n",
        "  \n",
        "\n",
        "2. Upload the PDF to Gradescope, select the correct pdf pages for each question. **Important!**\n",
        "\n",
        "3. Upload the ipynb file to Gradescope\n",
        "\n",
        "\n",
        "Notice:\n",
        "In case of errors in conversion, please check your LaTeX and debug. In Markdown, when you write in LaTeX math mode, do not leave any leading and trailing whitespaces inside the dollar signs ($). For example, write `(dollarSign)\\mathbf(dollarSign)(dollarSign)` instead of `(dollarSign)(space)\\mathbf{w}(dollarSign)`. Otherwise, nbconvert will throw an error and the generated pdf will be incomplete. [This is a bug of nbconvert.](https://tex.stackexchange.com/questions/367176/jupyter-notebook-latex-conversion-fails-escaped-and-other-symbols)\n"
      ],
      "metadata": {
        "id": "WecX82dMRrVo"
      }
    },
    {
      "cell_type": "code",
      "source": [
        "!sudo apt-get update\n",
        "!sudo apt-get install texlive-xetex texlive-fonts-recommended texlive-generic-recommended"
      ],
      "metadata": {
        "id": "ub1l1I4ZRqSS"
      },
      "execution_count": null,
      "outputs": []
    },
    {
      "cell_type": "code",
      "source": [
        "!jupyter nbconvert --log-level CRITICAL --to pdf fall2022_hw3.ipynb # make sure the ipynb name is correct"
      ],
      "metadata": {
        "id": "M2XuF-qZ_-fk"
      },
      "execution_count": null,
      "outputs": []
    },
    {
      "cell_type": "code",
      "source": [],
      "metadata": {
        "id": "kMCJzii39h4d"
      },
      "execution_count": null,
      "outputs": []
    }
  ]
}