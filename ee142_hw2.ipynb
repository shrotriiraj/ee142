{
  "nbformat": 4,
  "nbformat_minor": 0,
  "metadata": {
    "colab": {
      "provenance": []
    },
    "kernelspec": {
      "name": "python3",
      "display_name": "Python 3"
    },
    "language_info": {
      "name": "python"
    }
  },
  "cells": [
    {
      "cell_type": "markdown",
      "metadata": {
        "id": "UKc8K9_57UEz"
      },
      "source": [
        "# CS171-EE142 - Fall 2022 - Homework 2\n",
        "\n",
        "# Due: Thursday, October 28, 2022 @ 11:59pm\n",
        "\n",
        "### Maximum points: 100 pts\n",
        "\n",
        "\n",
        "## Submit your solution to Gradescope:\n",
        "1. Submit a single PDF to **HW2**\n",
        "2. Submit your jupyter notebook to **HW2-code**\n",
        "\n",
        "Notice:\n",
        "In Markdown, when you write in LaTeX math mode, do not leave any leading and trailing whitespaces inside the dollar signs ($). For example, write `(dollarSign)\\mathbf(dollarSign)(dollarSign)` instead of `(dollarSign)(space)\\mathbf{w}(dollarSign)`. Otherwise, nbconvert will throw an error and the generated pdf will be incomplete. [This is a bug of nbconvert.](https://tex.stackexchange.com/questions/367176/jupyter-notebook-latex-conversion-fails-escaped-and-other-symbols)\n",
        "\n",
        "**See the additional submission instructions at the end of this notebook**"
      ]
    },
    {
      "cell_type": "markdown",
      "metadata": {
        "id": "JL5tIX4c9z6s"
      },
      "source": [
        "\n",
        "## Enter your information below:\n",
        "\n",
        "### Your Name (submitter): Iraj Shrotri\n",
        "\n",
        "### Your student ID (submitter): 862077452\n",
        "    \n",
        "    \n",
        "<b>By submitting this notebook, I assert that the work below is my own work, completed for this course.  Except where explicitly cited, none of the portions of this notebook are duplicated from anyone else's work or my own previous work.</b>\n",
        "\n",
        "\n",
        "## Academic Integrity\n",
        "Each assignment should be done  individually. You may discuss general approaches with other students in the class, and ask questions to the TAs, but  you must only submit work that is yours . If you receive help by any external sources (other than the TA and the instructor), you must properly credit those sources, and if the help is significant, the appropriate grade reduction will be applied. If you fail to do so, the instructor and the TAs are obligated to take the appropriate actions outlined at http://conduct.ucr.edu/policies/academicintegrity.html . Please read carefully the UCR academic integrity policies included in the link.\n"
      ]
    },
    {
      "cell_type": "code",
      "metadata": {
        "id": "fJQhDvSz3BK9"
      },
      "source": [
        "# Standard library imports.\n",
        "import random as rand\n",
        "\n",
        "# Related third party imports.\n",
        "import numpy as np\n",
        "import pandas as pd\n",
        "import matplotlib.pyplot as plt\n",
        "import seaborn as sns\n",
        "from sklearn.linear_model import LinearRegression\n",
        "from sklearn.model_selection import train_test_split \n",
        "from numpy import linalg\n",
        "\n",
        "# Local application/library specific imports.\n",
        "# import here if you write .py script "
      ],
      "execution_count": null,
      "outputs": []
    },
    {
      "cell_type": "markdown",
      "metadata": {
        "id": "EJZlrA-m3BK-"
      },
      "source": [
        "## Question 1: Linear Regression [70 pts]\n",
        "We will implement linear regression using direct solution and gradient descent. \n",
        "\n",
        "We will first attempt to predict output using a single attribute/feature. Then we will perform linear regression using multiple attributes/features. \n",
        "\n",
        "### Getting data\n",
        "In this assignment we will use the Boston housing dataset. \n",
        "\n",
        "The Boston housing data set was collected in the 1970s to study the relationship between house price and various factors such as the house size, crime rate, socio-economic status, etc.  Since the variables are easy to understand, the data set is ideal for learning basic concepts in machine learning.  The raw data and a complete description of the dataset can be found on the UCI website:\n",
        "\n",
        "https://archive.ics.uci.edu/ml/machine-learning-databases/housing/housing.names\n",
        "https://archive.ics.uci.edu/ml/machine-learning-databases/housing/housing.data\n",
        "\n",
        "or \n",
        "\n",
        "http://www.ccs.neu.edu/home/vip/teach/MLcourse/data/housing_desc.txt\n",
        "\n",
        "I have supplied a list `names` of the column headers.  You will have to set the options in the `read_csv` command to correctly delimit the data in the file and name the columns correctly."
      ]
    },
    {
      "cell_type": "code",
      "metadata": {
        "id": "_qYkXul83BK-",
        "colab": {
          "base_uri": "https://localhost:8080/",
          "height": 424
        },
        "outputId": "993ae0be-7374-44ea-94b2-8cf05669da8f"
      },
      "source": [
        "names = [\n",
        "    'CRIM', 'ZN', 'INDUS', 'CHAS', 'NOX', 'RM', \n",
        "    'AGE',  'DIS', 'RAD', 'TAX', 'PTRATIO', 'B', 'LSTAT', 'PRICE'\n",
        "]\n",
        "\n",
        "df = pd.read_csv('https://archive.ics.uci.edu/ml/machine-learning-databases/housing/housing.data',\n",
        "                 header=None,delim_whitespace=True,names=names,na_values='?')\n",
        "\n",
        "df"
      ],
      "execution_count": null,
      "outputs": [
        {
          "output_type": "execute_result",
          "data": {
            "text/plain": [
              "        CRIM    ZN  INDUS  CHAS    NOX     RM   AGE     DIS  RAD    TAX  \\\n",
              "0    0.00632  18.0   2.31     0  0.538  6.575  65.2  4.0900    1  296.0   \n",
              "1    0.02731   0.0   7.07     0  0.469  6.421  78.9  4.9671    2  242.0   \n",
              "2    0.02729   0.0   7.07     0  0.469  7.185  61.1  4.9671    2  242.0   \n",
              "3    0.03237   0.0   2.18     0  0.458  6.998  45.8  6.0622    3  222.0   \n",
              "4    0.06905   0.0   2.18     0  0.458  7.147  54.2  6.0622    3  222.0   \n",
              "..       ...   ...    ...   ...    ...    ...   ...     ...  ...    ...   \n",
              "501  0.06263   0.0  11.93     0  0.573  6.593  69.1  2.4786    1  273.0   \n",
              "502  0.04527   0.0  11.93     0  0.573  6.120  76.7  2.2875    1  273.0   \n",
              "503  0.06076   0.0  11.93     0  0.573  6.976  91.0  2.1675    1  273.0   \n",
              "504  0.10959   0.0  11.93     0  0.573  6.794  89.3  2.3889    1  273.0   \n",
              "505  0.04741   0.0  11.93     0  0.573  6.030  80.8  2.5050    1  273.0   \n",
              "\n",
              "     PTRATIO       B  LSTAT  PRICE  \n",
              "0       15.3  396.90   4.98   24.0  \n",
              "1       17.8  396.90   9.14   21.6  \n",
              "2       17.8  392.83   4.03   34.7  \n",
              "3       18.7  394.63   2.94   33.4  \n",
              "4       18.7  396.90   5.33   36.2  \n",
              "..       ...     ...    ...    ...  \n",
              "501     21.0  391.99   9.67   22.4  \n",
              "502     21.0  396.90   9.08   20.6  \n",
              "503     21.0  396.90   5.64   23.9  \n",
              "504     21.0  393.45   6.48   22.0  \n",
              "505     21.0  396.90   7.88   11.9  \n",
              "\n",
              "[506 rows x 14 columns]"
            ],
            "text/html": [
              "\n",
              "  <div id=\"df-9e8eff16-13c8-4a29-8223-79f15e02c278\">\n",
              "    <div class=\"colab-df-container\">\n",
              "      <div>\n",
              "<style scoped>\n",
              "    .dataframe tbody tr th:only-of-type {\n",
              "        vertical-align: middle;\n",
              "    }\n",
              "\n",
              "    .dataframe tbody tr th {\n",
              "        vertical-align: top;\n",
              "    }\n",
              "\n",
              "    .dataframe thead th {\n",
              "        text-align: right;\n",
              "    }\n",
              "</style>\n",
              "<table border=\"1\" class=\"dataframe\">\n",
              "  <thead>\n",
              "    <tr style=\"text-align: right;\">\n",
              "      <th></th>\n",
              "      <th>CRIM</th>\n",
              "      <th>ZN</th>\n",
              "      <th>INDUS</th>\n",
              "      <th>CHAS</th>\n",
              "      <th>NOX</th>\n",
              "      <th>RM</th>\n",
              "      <th>AGE</th>\n",
              "      <th>DIS</th>\n",
              "      <th>RAD</th>\n",
              "      <th>TAX</th>\n",
              "      <th>PTRATIO</th>\n",
              "      <th>B</th>\n",
              "      <th>LSTAT</th>\n",
              "      <th>PRICE</th>\n",
              "    </tr>\n",
              "  </thead>\n",
              "  <tbody>\n",
              "    <tr>\n",
              "      <th>0</th>\n",
              "      <td>0.00632</td>\n",
              "      <td>18.0</td>\n",
              "      <td>2.31</td>\n",
              "      <td>0</td>\n",
              "      <td>0.538</td>\n",
              "      <td>6.575</td>\n",
              "      <td>65.2</td>\n",
              "      <td>4.0900</td>\n",
              "      <td>1</td>\n",
              "      <td>296.0</td>\n",
              "      <td>15.3</td>\n",
              "      <td>396.90</td>\n",
              "      <td>4.98</td>\n",
              "      <td>24.0</td>\n",
              "    </tr>\n",
              "    <tr>\n",
              "      <th>1</th>\n",
              "      <td>0.02731</td>\n",
              "      <td>0.0</td>\n",
              "      <td>7.07</td>\n",
              "      <td>0</td>\n",
              "      <td>0.469</td>\n",
              "      <td>6.421</td>\n",
              "      <td>78.9</td>\n",
              "      <td>4.9671</td>\n",
              "      <td>2</td>\n",
              "      <td>242.0</td>\n",
              "      <td>17.8</td>\n",
              "      <td>396.90</td>\n",
              "      <td>9.14</td>\n",
              "      <td>21.6</td>\n",
              "    </tr>\n",
              "    <tr>\n",
              "      <th>2</th>\n",
              "      <td>0.02729</td>\n",
              "      <td>0.0</td>\n",
              "      <td>7.07</td>\n",
              "      <td>0</td>\n",
              "      <td>0.469</td>\n",
              "      <td>7.185</td>\n",
              "      <td>61.1</td>\n",
              "      <td>4.9671</td>\n",
              "      <td>2</td>\n",
              "      <td>242.0</td>\n",
              "      <td>17.8</td>\n",
              "      <td>392.83</td>\n",
              "      <td>4.03</td>\n",
              "      <td>34.7</td>\n",
              "    </tr>\n",
              "    <tr>\n",
              "      <th>3</th>\n",
              "      <td>0.03237</td>\n",
              "      <td>0.0</td>\n",
              "      <td>2.18</td>\n",
              "      <td>0</td>\n",
              "      <td>0.458</td>\n",
              "      <td>6.998</td>\n",
              "      <td>45.8</td>\n",
              "      <td>6.0622</td>\n",
              "      <td>3</td>\n",
              "      <td>222.0</td>\n",
              "      <td>18.7</td>\n",
              "      <td>394.63</td>\n",
              "      <td>2.94</td>\n",
              "      <td>33.4</td>\n",
              "    </tr>\n",
              "    <tr>\n",
              "      <th>4</th>\n",
              "      <td>0.06905</td>\n",
              "      <td>0.0</td>\n",
              "      <td>2.18</td>\n",
              "      <td>0</td>\n",
              "      <td>0.458</td>\n",
              "      <td>7.147</td>\n",
              "      <td>54.2</td>\n",
              "      <td>6.0622</td>\n",
              "      <td>3</td>\n",
              "      <td>222.0</td>\n",
              "      <td>18.7</td>\n",
              "      <td>396.90</td>\n",
              "      <td>5.33</td>\n",
              "      <td>36.2</td>\n",
              "    </tr>\n",
              "    <tr>\n",
              "      <th>...</th>\n",
              "      <td>...</td>\n",
              "      <td>...</td>\n",
              "      <td>...</td>\n",
              "      <td>...</td>\n",
              "      <td>...</td>\n",
              "      <td>...</td>\n",
              "      <td>...</td>\n",
              "      <td>...</td>\n",
              "      <td>...</td>\n",
              "      <td>...</td>\n",
              "      <td>...</td>\n",
              "      <td>...</td>\n",
              "      <td>...</td>\n",
              "      <td>...</td>\n",
              "    </tr>\n",
              "    <tr>\n",
              "      <th>501</th>\n",
              "      <td>0.06263</td>\n",
              "      <td>0.0</td>\n",
              "      <td>11.93</td>\n",
              "      <td>0</td>\n",
              "      <td>0.573</td>\n",
              "      <td>6.593</td>\n",
              "      <td>69.1</td>\n",
              "      <td>2.4786</td>\n",
              "      <td>1</td>\n",
              "      <td>273.0</td>\n",
              "      <td>21.0</td>\n",
              "      <td>391.99</td>\n",
              "      <td>9.67</td>\n",
              "      <td>22.4</td>\n",
              "    </tr>\n",
              "    <tr>\n",
              "      <th>502</th>\n",
              "      <td>0.04527</td>\n",
              "      <td>0.0</td>\n",
              "      <td>11.93</td>\n",
              "      <td>0</td>\n",
              "      <td>0.573</td>\n",
              "      <td>6.120</td>\n",
              "      <td>76.7</td>\n",
              "      <td>2.2875</td>\n",
              "      <td>1</td>\n",
              "      <td>273.0</td>\n",
              "      <td>21.0</td>\n",
              "      <td>396.90</td>\n",
              "      <td>9.08</td>\n",
              "      <td>20.6</td>\n",
              "    </tr>\n",
              "    <tr>\n",
              "      <th>503</th>\n",
              "      <td>0.06076</td>\n",
              "      <td>0.0</td>\n",
              "      <td>11.93</td>\n",
              "      <td>0</td>\n",
              "      <td>0.573</td>\n",
              "      <td>6.976</td>\n",
              "      <td>91.0</td>\n",
              "      <td>2.1675</td>\n",
              "      <td>1</td>\n",
              "      <td>273.0</td>\n",
              "      <td>21.0</td>\n",
              "      <td>396.90</td>\n",
              "      <td>5.64</td>\n",
              "      <td>23.9</td>\n",
              "    </tr>\n",
              "    <tr>\n",
              "      <th>504</th>\n",
              "      <td>0.10959</td>\n",
              "      <td>0.0</td>\n",
              "      <td>11.93</td>\n",
              "      <td>0</td>\n",
              "      <td>0.573</td>\n",
              "      <td>6.794</td>\n",
              "      <td>89.3</td>\n",
              "      <td>2.3889</td>\n",
              "      <td>1</td>\n",
              "      <td>273.0</td>\n",
              "      <td>21.0</td>\n",
              "      <td>393.45</td>\n",
              "      <td>6.48</td>\n",
              "      <td>22.0</td>\n",
              "    </tr>\n",
              "    <tr>\n",
              "      <th>505</th>\n",
              "      <td>0.04741</td>\n",
              "      <td>0.0</td>\n",
              "      <td>11.93</td>\n",
              "      <td>0</td>\n",
              "      <td>0.573</td>\n",
              "      <td>6.030</td>\n",
              "      <td>80.8</td>\n",
              "      <td>2.5050</td>\n",
              "      <td>1</td>\n",
              "      <td>273.0</td>\n",
              "      <td>21.0</td>\n",
              "      <td>396.90</td>\n",
              "      <td>7.88</td>\n",
              "      <td>11.9</td>\n",
              "    </tr>\n",
              "  </tbody>\n",
              "</table>\n",
              "<p>506 rows × 14 columns</p>\n",
              "</div>\n",
              "      <button class=\"colab-df-convert\" onclick=\"convertToInteractive('df-9e8eff16-13c8-4a29-8223-79f15e02c278')\"\n",
              "              title=\"Convert this dataframe to an interactive table.\"\n",
              "              style=\"display:none;\">\n",
              "        \n",
              "  <svg xmlns=\"http://www.w3.org/2000/svg\" height=\"24px\"viewBox=\"0 0 24 24\"\n",
              "       width=\"24px\">\n",
              "    <path d=\"M0 0h24v24H0V0z\" fill=\"none\"/>\n",
              "    <path d=\"M18.56 5.44l.94 2.06.94-2.06 2.06-.94-2.06-.94-.94-2.06-.94 2.06-2.06.94zm-11 1L8.5 8.5l.94-2.06 2.06-.94-2.06-.94L8.5 2.5l-.94 2.06-2.06.94zm10 10l.94 2.06.94-2.06 2.06-.94-2.06-.94-.94-2.06-.94 2.06-2.06.94z\"/><path d=\"M17.41 7.96l-1.37-1.37c-.4-.4-.92-.59-1.43-.59-.52 0-1.04.2-1.43.59L10.3 9.45l-7.72 7.72c-.78.78-.78 2.05 0 2.83L4 21.41c.39.39.9.59 1.41.59.51 0 1.02-.2 1.41-.59l7.78-7.78 2.81-2.81c.8-.78.8-2.07 0-2.86zM5.41 20L4 18.59l7.72-7.72 1.47 1.35L5.41 20z\"/>\n",
              "  </svg>\n",
              "      </button>\n",
              "      \n",
              "  <style>\n",
              "    .colab-df-container {\n",
              "      display:flex;\n",
              "      flex-wrap:wrap;\n",
              "      gap: 12px;\n",
              "    }\n",
              "\n",
              "    .colab-df-convert {\n",
              "      background-color: #E8F0FE;\n",
              "      border: none;\n",
              "      border-radius: 50%;\n",
              "      cursor: pointer;\n",
              "      display: none;\n",
              "      fill: #1967D2;\n",
              "      height: 32px;\n",
              "      padding: 0 0 0 0;\n",
              "      width: 32px;\n",
              "    }\n",
              "\n",
              "    .colab-df-convert:hover {\n",
              "      background-color: #E2EBFA;\n",
              "      box-shadow: 0px 1px 2px rgba(60, 64, 67, 0.3), 0px 1px 3px 1px rgba(60, 64, 67, 0.15);\n",
              "      fill: #174EA6;\n",
              "    }\n",
              "\n",
              "    [theme=dark] .colab-df-convert {\n",
              "      background-color: #3B4455;\n",
              "      fill: #D2E3FC;\n",
              "    }\n",
              "\n",
              "    [theme=dark] .colab-df-convert:hover {\n",
              "      background-color: #434B5C;\n",
              "      box-shadow: 0px 1px 3px 1px rgba(0, 0, 0, 0.15);\n",
              "      filter: drop-shadow(0px 1px 2px rgba(0, 0, 0, 0.3));\n",
              "      fill: #FFFFFF;\n",
              "    }\n",
              "  </style>\n",
              "\n",
              "      <script>\n",
              "        const buttonEl =\n",
              "          document.querySelector('#df-9e8eff16-13c8-4a29-8223-79f15e02c278 button.colab-df-convert');\n",
              "        buttonEl.style.display =\n",
              "          google.colab.kernel.accessAllowed ? 'block' : 'none';\n",
              "\n",
              "        async function convertToInteractive(key) {\n",
              "          const element = document.querySelector('#df-9e8eff16-13c8-4a29-8223-79f15e02c278');\n",
              "          const dataTable =\n",
              "            await google.colab.kernel.invokeFunction('convertToInteractive',\n",
              "                                                     [key], {});\n",
              "          if (!dataTable) return;\n",
              "\n",
              "          const docLinkHtml = 'Like what you see? Visit the ' +\n",
              "            '<a target=\"_blank\" href=https://colab.research.google.com/notebooks/data_table.ipynb>data table notebook</a>'\n",
              "            + ' to learn more about interactive tables.';\n",
              "          element.innerHTML = '';\n",
              "          dataTable['output_type'] = 'display_data';\n",
              "          await google.colab.output.renderOutput(dataTable, element);\n",
              "          const docLink = document.createElement('div');\n",
              "          docLink.innerHTML = docLinkHtml;\n",
              "          element.appendChild(docLink);\n",
              "        }\n",
              "      </script>\n",
              "    </div>\n",
              "  </div>\n",
              "  "
            ]
          },
          "metadata": {},
          "execution_count": 3
        }
      ]
    },
    {
      "cell_type": "markdown",
      "metadata": {
        "id": "eayVrVtUI3zo"
      },
      "source": [
        "### Basic Manipulations on the Data\n",
        "\n",
        "What is the shape of the data?  How many attributes are there?  How many samples?\n",
        "Print a statement of the form:\n",
        "\n",
        "    num samples=xxx, num attributes=yy"
      ]
    },
    {
      "cell_type": "markdown",
      "metadata": {
        "id": "8UULkMygXPpd"
      },
      "source": [
        "In order to properly test linear regression, we first need to find a set of correlated variables, so that we use one to predict the other. Consider the following scatterplots:"
      ]
    },
    {
      "cell_type": "code",
      "metadata": {
        "id": "xuGIgMu93BK_",
        "colab": {
          "base_uri": "https://localhost:8080/",
          "height": 639
        },
        "outputId": "7c2199cc-8f27-4e97-ec99-04915547d85b"
      },
      "source": [
        "# RM - average number of rooms per dwelling\n",
        "# LSTAT - % lower status of the population\n",
        "\n",
        "df.shape\n",
        "\n",
        "print(f\"num samples={df.size}, num attributes={df.columns}\")\n",
        "\n",
        "sns.pairplot(df[['RM','LSTAT','PRICE']])"
      ],
      "execution_count": null,
      "outputs": [
        {
          "output_type": "stream",
          "name": "stdout",
          "text": [
            "num samples=7084, num attributes=Index(['CRIM', 'ZN', 'INDUS', 'CHAS', 'NOX', 'RM', 'AGE', 'DIS', 'RAD', 'TAX',\n",
            "       'PTRATIO', 'B', 'LSTAT', 'PRICE'],\n",
            "      dtype='object')\n"
          ]
        },
        {
          "output_type": "execute_result",
          "data": {
            "text/plain": [
              "<seaborn.axisgrid.PairGrid at 0x7f5857befa90>"
            ]
          },
          "metadata": {},
          "execution_count": 4
        },
        {
          "output_type": "display_data",
          "data": {
            "text/plain": [
              "<Figure size 540x540 with 12 Axes>"
            ],
            "image/png": "[encoded data removed]"
          },
          "metadata": {
            "needs_background": "light"
          }
        }
      ]
    },
    {
      "cell_type": "markdown",
      "metadata": {
        "id": "ywadWSHsYEZd"
      },
      "source": [
        "Create a response vector `y` with the values in the column `PRICE`.  The vector `y` should be a 1D `numpy.array` structure."
      ]
    },
    {
      "cell_type": "code",
      "metadata": {
        "id": "p2-zIA5vYOHA",
        "colab": {
          "base_uri": "https://localhost:8080/"
        },
        "outputId": "781bd460-60a5-4097-fd3f-d85d3f545a8a"
      },
      "source": [
        "#y = np.array[]\n",
        "y = df['PRICE']\n",
        "y"
      ],
      "execution_count": null,
      "outputs": [
        {
          "output_type": "execute_result",
          "data": {
            "text/plain": [
              "0      24.0\n",
              "1      21.6\n",
              "2      34.7\n",
              "3      33.4\n",
              "4      36.2\n",
              "       ... \n",
              "501    22.4\n",
              "502    20.6\n",
              "503    23.9\n",
              "504    22.0\n",
              "505    11.9\n",
              "Name: PRICE, Length: 506, dtype: float64"
            ]
          },
          "metadata": {},
          "execution_count": 5
        }
      ]
    },
    {
      "cell_type": "markdown",
      "metadata": {
        "id": "l9UHZEggYKd0"
      },
      "source": [
        "Use the response vector `y` to find the mean house price in thousands and the fraction of homes that are above $40k. (You may realize this is very cheap.  Prices have gone up a lot since the 1970s!).   Create print statements of the form:\n",
        "\n",
        "    The mean house price is xx.yy thousands of dollars.\n",
        "    Only x.y percent are above $40k."
      ]
    },
    {
      "cell_type": "code",
      "metadata": {
        "id": "265qk4h2YUrc",
        "colab": {
          "base_uri": "https://localhost:8080/"
        },
        "outputId": "996d1b67-05f9-4c64-b3dc-780887c76ee5"
      },
      "source": [
        "# TODO \n",
        "print(f\"The mean house price is {round(y.mean(),2)} thousands of dollars.\")\n",
        "cnt = 0\n",
        "for cost in y:\n",
        "  if cost > 40:\n",
        "    cnt += 1\n",
        "print(cnt)\n",
        "\n",
        "per = (cnt/505) * 100\n",
        "print(per)\n",
        "\n",
        "print(f\"Only {round(per, 2)} % are above $40k.\")\n"
      ],
      "execution_count": null,
      "outputs": [
        {
          "output_type": "stream",
          "name": "stdout",
          "text": [
            "The mean house price is 22.53 thousands of dollars.\n",
            "31\n",
            "6.138613861386139\n",
            "Only 6.14 % are above $40k.\n"
          ]
        }
      ]
    },
    {
      "cell_type": "markdown",
      "metadata": {
        "id": "_zeK-Qoc0TXu"
      },
      "source": [
        "### Visualizing the Data\n",
        "\n",
        "Python's `matplotlib` has very good routines for plotting and visualizing data that closely follows the format of MATLAB programs.  You can load the `matplotlib` package with the following commands."
      ]
    },
    {
      "cell_type": "code",
      "metadata": {
        "collapsed": true,
        "id": "O5Hn63Id0TXu"
      },
      "source": [
        "import matplotlib\n",
        "import matplotlib.pyplot as plt\n",
        "%matplotlib inline"
      ],
      "execution_count": null,
      "outputs": []
    },
    {
      "cell_type": "markdown",
      "metadata": {
        "id": "A8BLgPQQ0TXv"
      },
      "source": [
        "Similar to the `y` vector, create a predictor vector `x` containing the values in the `RM` column, which represents the average number of rooms in each region."
      ]
    },
    {
      "cell_type": "code",
      "metadata": {
        "collapsed": true,
        "id": "wvkiFOUP0TXv",
        "colab": {
          "base_uri": "https://localhost:8080/"
        },
        "outputId": "b26cd9dd-9560-41fa-c15e-0f425dffaeda"
      },
      "source": [
        "x = df['RM']\n",
        "print(x)"
      ],
      "execution_count": null,
      "outputs": [
        {
          "output_type": "stream",
          "name": "stdout",
          "text": [
            "0      6.575\n",
            "1      6.421\n",
            "2      7.185\n",
            "3      6.998\n",
            "4      7.147\n",
            "       ...  \n",
            "501    6.593\n",
            "502    6.120\n",
            "503    6.976\n",
            "504    6.794\n",
            "505    6.030\n",
            "Name: RM, Length: 506, dtype: float64\n"
          ]
        }
      ]
    },
    {
      "cell_type": "markdown",
      "metadata": {
        "id": "nZfFM3_z0TXv"
      },
      "source": [
        "Create a scatter plot of the price vs. the `RM` attribute.  Make sure your plot has grid lines and label the axes with reasonable labels so that someone else can understand the plot."
      ]
    },
    {
      "cell_type": "code",
      "metadata": {
        "collapsed": true,
        "id": "DXkjMSpY0TXv",
        "colab": {
          "base_uri": "https://localhost:8080/",
          "height": 279
        },
        "outputId": "6a5fa7b2-8532-4976-ea7c-11f2a7bfdc9e"
      },
      "source": [
        "#sns.pairplot(df[['RM','PRICE']])\n",
        "#plt.scatter(x,y)\n",
        "df.plot(kind = 'scatter', x = 'RM', y = 'PRICE')\n",
        "plt.grid()"
      ],
      "execution_count": null,
      "outputs": [
        {
          "output_type": "display_data",
          "data": {
            "text/plain": [
              "<Figure size 432x288 with 1 Axes>"
            ],
            "image/png": "[encoded data removed]"
          },
          "metadata": {
            "needs_background": "light"
          }
        }
      ]
    },
    {
      "cell_type": "markdown",
      "metadata": {
        "id": "JJ6l2LRjvrEV"
      },
      "source": [
        "The number of rooms and price seem to have a linear trend, so let us try to predict price using number of rooms first. "
      ]
    },
    {
      "cell_type": "markdown",
      "metadata": {
        "id": "G-5e_O4x0TXv"
      },
      "source": [
        "### Question 1a. Derivation of a simple linear model for a single feature [10 pts]\n",
        "Suppose we have $N$ pairs of training samples $(x_1,y_1),\\ldots, (x_N,y_N)$, where $x_i \\in \\mathbb{R}$ and $y_i \\in \\mathbb{R}$. \n",
        "\n",
        "We want to perform a linear fit for this 1D data as \n",
        "$$y = wx+b,$$\n",
        "where $w\\in \\mathbb{R}$ and $b\\in \\mathbb{R}$. \n",
        "\n",
        "In the class, we looked at the derivation of optimal value of $w$ when $b=0$. The squared loss function can be written as  $$L(w) = \\sum_{i=1}^N(w x_i -y_i)^2,$$ and the optimal value of $w*$ that minimizes $L(w)$ can be written as $$w^* = (\\sum_{i=1}^N x_i^2)^{-1}(\\sum_{i=1}^N x_i y_i)$$. \n",
        "\n",
        "\n",
        "Now let us include $b$ in our model. Show that the optimal values of $w^*,b^*$ that minimize the loss function \n",
        "$$L(w,b) = \\sum_{i=1}^N(wx_i + b -y_i)^2$$ \n",
        "can be written as \n",
        "$$w^* = (\\sum_i (x_i - \\bar{x})^2)^{-1}(\\sum_i (x_i-\\bar{x})(y_i-\\bar{y}))$$\n",
        "and $$b^* = \\bar{y} - w^*\\bar{x},$$\n",
        "where $\\bar{x} = \\frac{1}{N}\\sum_i x_i, \\bar{y} = \\frac{1}{N}\\sum_i y_i$ are mean values of $x_i,y_i$, respectively. \n",
        "\n"
      ]
    },
    {
      "cell_type": "markdown",
      "metadata": {
        "id": "JXgc6X6nnCxf"
      },
      "source": [
        "**TODO: Your derivation goes here.**\n",
        "\n",
        "\\begin{align}\n",
        "w^* = \\frac{\\partial}{\\partial w} = \\frac{1]{N} \\sum_{i = 1} ^{N} 2((wx_i +b) -y_i)(-x_i) = - \\frac{2}{N} \\sum_{i=1} ^{N} x_i ((wx_i +b) - y_i)\n",
        "\\end{align}\n",
        "\n",
        "\\begin{align}\n",
        "b^* = \\frac{\\partial}{\\partail b} = - \\frac{2}{N} \\sum_{i=1} ^{N} ((ws_i +b) -y_i\n",
        "\\end{align}\n",
        "\n",
        "\n",
        "\n",
        "\n"
      ]
    },
    {
      "cell_type": "markdown",
      "metadata": {
        "id": "v6wR2wx9nHRG"
      },
      "source": [
        "### Question 1b. Fitting a linear model using a single feature [10 pts] \n",
        "\n",
        "Next we will write a function to perform a linear fit. Use the formulae above to compute the parameters $w,b$ in the linear model $y = wx + b$."
      ]
    },
    {
      "cell_type": "code",
      "metadata": {
        "collapsed": true,
        "id": "HA-PyCGR0TXv"
      },
      "source": [
        "\n",
        "def fit_linear(x,y):\n",
        "    \"\"\"\n",
        "    Given vectors of data points (x,y), performs a fit for the linear model:\n",
        "       yhat = w*x + b, \n",
        "    The function returns w and b\n",
        "    \"\"\"\n",
        "    X_train = x.array.reshape(-1, 1)\n",
        "    Y_train = y.array.reshape(-1, 1)\n",
        "    from sklearn import linear_model\n",
        "    regr = linear_model.LinearRegression()\n",
        "    regr.fit(X_train,Y_train)\n",
        "    \n",
        "    b = regr.intercept_\n",
        "    w = regr.coef_\n",
        "\n",
        "    return w, b\n"
      ],
      "execution_count": null,
      "outputs": []
    },
    {
      "cell_type": "markdown",
      "metadata": {
        "id": "GzO9Ehhg0TXw"
      },
      "source": [
        "Using the function `fit_linear` above, print the values `w`, `b` for the linear model of price vs. number of rooms."
      ]
    },
    {
      "cell_type": "code",
      "metadata": {
        "collapsed": true,
        "id": "LxoaYYOz0TXw",
        "colab": {
          "base_uri": "https://localhost:8080/"
        },
        "outputId": "f967cba3-d91e-40f9-c943-5cd984e58f08"
      },
      "source": [
        "w, b = fit_linear(x,y)\n",
        "w = np.ndarray.item(w) \n",
        "b = np.ndarray.item(b)\n",
        "print(f'w = {w}, b = {b}'.format(w,b))\n",
        "\n",
        "#print('w = {0:5.1f}, b = {1:5.1f}'.format(w,b))"
      ],
      "execution_count": null,
      "outputs": [
        {
          "output_type": "stream",
          "name": "stdout",
          "text": [
            "w = 9.10210898118031, b = -34.67062077643857\n"
          ]
        }
      ]
    },
    {
      "cell_type": "markdown",
      "metadata": {
        "id": "bAj_BRcerz97"
      },
      "source": [
        "Does the price increase or decrease with the number of rooms? \n",
        "\n",
        "* The prices incresed as the number of rooms increased."
      ]
    },
    {
      "cell_type": "markdown",
      "metadata": {
        "id": "F71MzBOx0TXw"
      },
      "source": [
        "Replot the scatter plot above, but now with the regression line.  You can create the regression line by creating points `xp` from say min(x) to max(x), computing the linear predicted values `yp` on those points and plotting `yp` vs. `xp` on top of the above plot."
      ]
    },
    {
      "cell_type": "code",
      "metadata": {
        "collapsed": true,
        "id": "rf9qJ_qY0TXw",
        "colab": {
          "base_uri": "https://localhost:8080/",
          "height": 367
        },
        "outputId": "f99ee572-6a75-422b-b899-e0cc9b925d96"
      },
      "source": [
        "xp = []\n",
        "np.array(xp)\n",
        "for i in np.arange(min(x), max(x),0.01):\n",
        "  xp.append(i)\n",
        "print(xp)\n",
        "\n",
        "yp = []\n",
        "np.array(yp)\n",
        "for m in xp:\n",
        "  yp.append(m*w + b)\n",
        "print(yp)\n",
        "\n",
        "fig, ax = plt.subplots()\n",
        "ax.scatter(x,y)\n",
        "ax.scatter(xp,yp)\n",
        "ax.grid()\n",
        "ax.set_title(\"Price V.S Room\")\n",
        "ax.set_xlabel(\"Room(unit)\")\n",
        "ax.set_ylabel(\"Price($K)\")"
      ],
      "execution_count": null,
      "outputs": [
        {
          "output_type": "stream",
          "name": "stdout",
          "text": [
            "[3.561, 3.5709999999999997, 3.5809999999999995, 3.5909999999999993, 3.600999999999999, 3.610999999999999, 3.6209999999999987, 3.6309999999999985, 3.6409999999999982, 3.650999999999998, 3.660999999999998, 3.6709999999999976, 3.6809999999999974, 3.690999999999997, 3.700999999999997, 3.7109999999999967, 3.7209999999999965, 3.7309999999999963, 3.740999999999996, 3.750999999999996, 3.7609999999999957, 3.7709999999999955, 3.7809999999999953, 3.790999999999995, 3.800999999999995, 3.8109999999999946, 3.8209999999999944, 3.830999999999994, 3.840999999999994, 3.8509999999999938, 3.8609999999999935, 3.8709999999999933, 3.880999999999993, 3.890999999999993, 3.9009999999999927, 3.9109999999999925, 3.9209999999999923, 3.930999999999992, 3.940999999999992, 3.9509999999999916, 3.9609999999999914, 3.970999999999991, 3.980999999999991, 3.9909999999999908, 4.000999999999991, 4.01099999999999, 4.02099999999999, 4.03099999999999, 4.04099999999999, 4.0509999999999895, 4.060999999999989, 4.070999999999989, 4.080999999999989, 4.090999999999989, 4.100999999999988, 4.110999999999988, 4.120999999999988, 4.130999999999988, 4.140999999999988, 4.150999999999987, 4.160999999999987, 4.170999999999987, 4.180999999999987, 4.1909999999999865, 4.200999999999986, 4.210999999999986, 4.220999999999986, 4.230999999999986, 4.2409999999999854, 4.250999999999985, 4.260999999999985, 4.270999999999985, 4.280999999999985, 4.290999999999984, 4.300999999999984, 4.310999999999984, 4.320999999999984, 4.3309999999999835, 4.340999999999983, 4.350999999999983, 4.360999999999983, 4.370999999999983, 4.3809999999999825, 4.390999999999982, 4.400999999999982, 4.410999999999982, 4.420999999999982, 4.430999999999981, 4.440999999999981, 4.450999999999981, 4.460999999999981, 4.4709999999999805, 4.48099999999998, 4.49099999999998, 4.50099999999998, 4.51099999999998, 4.5209999999999795, 4.530999999999979, 4.540999999999979, 4.550999999999979, 4.560999999999979, 4.570999999999978, 4.580999999999978, 4.590999999999978, 4.600999999999978, 4.610999999999978, 4.620999999999977, 4.630999999999977, 4.640999999999977, 4.650999999999977, 4.6609999999999765, 4.670999999999976, 4.680999999999976, 4.690999999999976, 4.700999999999976, 4.710999999999975, 4.720999999999975, 4.730999999999975, 4.740999999999975, 4.750999999999975, 4.760999999999974, 4.770999999999974, 4.780999999999974, 4.790999999999974, 4.8009999999999735, 4.810999999999973, 4.820999999999973, 4.830999999999973, 4.840999999999973, 4.8509999999999724, 4.860999999999972, 4.870999999999972, 4.880999999999972, 4.890999999999972, 4.900999999999971, 4.910999999999971, 4.920999999999971, 4.930999999999971, 4.9409999999999705, 4.95099999999997, 4.96099999999997, 4.97099999999997, 4.98099999999997, 4.9909999999999695, 5.000999999999969, 5.010999999999969, 5.020999999999969, 5.030999999999969, 5.040999999999968, 5.050999999999968, 5.060999999999968, 5.070999999999968, 5.0809999999999675, 5.090999999999967, 5.100999999999967, 5.110999999999967, 5.120999999999967, 5.1309999999999665, 5.140999999999966, 5.150999999999966, 5.160999999999966, 5.170999999999966, 5.180999999999965, 5.190999999999965, 5.200999999999965, 5.210999999999965, 5.220999999999965, 5.230999999999964, 5.240999999999964, 5.250999999999964, 5.260999999999964, 5.2709999999999635, 5.280999999999963, 5.290999999999963, 5.300999999999963, 5.310999999999963, 5.320999999999962, 5.330999999999962, 5.340999999999962, 5.350999999999962, 5.360999999999962, 5.370999999999961, 5.380999999999961, 5.390999999999961, 5.400999999999961, 5.4109999999999605, 5.42099999999996, 5.43099999999996, 5.44099999999996, 5.45099999999996, 5.460999999999959, 5.470999999999959, 5.480999999999959, 5.490999999999959, 5.500999999999959, 5.510999999999958, 5.520999999999958, 5.530999999999958, 5.540999999999958, 5.5509999999999575, 5.560999999999957, 5.570999999999957, 5.580999999999957, 5.590999999999957, 5.6009999999999565, 5.610999999999956, 5.620999999999956, 5.630999999999956, 5.640999999999956, 5.650999999999955, 5.660999999999955, 5.670999999999955, 5.680999999999955, 5.6909999999999545, 5.700999999999954, 5.710999999999954, 5.720999999999954, 5.730999999999954, 5.7409999999999535, 5.750999999999953, 5.760999999999953, 5.770999999999953, 5.780999999999953, 5.790999999999952, 5.800999999999952, 5.810999999999952, 5.820999999999952, 5.8309999999999516, 5.840999999999951, 5.850999999999951, 5.860999999999951, 5.870999999999951, 5.8809999999999505, 5.89099999999995, 5.90099999999995, 5.91099999999995, 5.92099999999995, 5.930999999999949, 5.940999999999949, 5.950999999999949, 5.960999999999949, 5.970999999999949, 5.980999999999948, 5.990999999999948, 6.000999999999948, 6.010999999999948, 6.0209999999999475, 6.030999999999947, 6.040999999999947, 6.050999999999947, 6.060999999999947, 6.070999999999946, 6.080999999999946, 6.090999999999946, 6.100999999999946, 6.110999999999946, 6.120999999999945, 6.130999999999945, 6.140999999999945, 6.150999999999945, 6.1609999999999445, 6.170999999999944, 6.180999999999944, 6.190999999999944, 6.200999999999944, 6.2109999999999435, 6.220999999999943, 6.230999999999943, 6.240999999999943, 6.250999999999943, 6.260999999999942, 6.270999999999942, 6.280999999999942, 6.290999999999942, 6.3009999999999415, 6.310999999999941, 6.320999999999941, 6.330999999999941, 6.340999999999941, 6.3509999999999405, 6.36099999999994, 6.37099999999994, 6.38099999999994, 6.39099999999994, 6.400999999999939, 6.410999999999939, 6.420999999999939, 6.430999999999939, 6.4409999999999386, 6.450999999999938, 6.460999999999938, 6.470999999999938, 6.480999999999938, 6.4909999999999375, 6.500999999999937, 6.510999999999937, 6.520999999999937, 6.530999999999937, 6.540999999999936, 6.550999999999936, 6.560999999999936, 6.570999999999936, 6.580999999999936, 6.590999999999935, 6.600999999999935, 6.610999999999935, 6.620999999999935, 6.6309999999999345, 6.640999999999934, 6.650999999999934, 6.660999999999934, 6.670999999999934, 6.680999999999933, 6.690999999999933, 6.700999999999933, 6.710999999999933, 6.720999999999933, 6.730999999999932, 6.740999999999932, 6.750999999999932, 6.760999999999932, 6.7709999999999315, 6.780999999999931, 6.790999999999931, 6.800999999999931, 6.810999999999931, 6.8209999999999305, 6.83099999999993, 6.84099999999993, 6.85099999999993, 6.86099999999993, 6.870999999999929, 6.880999999999929, 6.890999999999929, 6.900999999999929, 6.9109999999999285, 6.920999999999928, 6.930999999999928, 6.940999999999928, 6.950999999999928, 6.9609999999999275, 6.970999999999927, 6.980999999999927, 6.990999999999927, 7.000999999999927, 7.010999999999926, 7.020999999999926, 7.030999999999926, 7.040999999999926, 7.0509999999999255, 7.060999999999925, 7.070999999999925, 7.080999999999925, 7.090999999999925, 7.1009999999999245, 7.110999999999924, 7.120999999999924, 7.130999999999924, 7.140999999999924, 7.150999999999923, 7.160999999999923, 7.170999999999923, 7.180999999999923, 7.190999999999923, 7.200999999999922, 7.210999999999922, 7.220999999999922, 7.230999999999922, 7.2409999999999215, 7.250999999999921, 7.260999999999921, 7.270999999999921, 7.280999999999921, 7.29099999999992, 7.30099999999992, 7.31099999999992, 7.32099999999992, 7.33099999999992, 7.340999999999919, 7.350999999999919, 7.360999999999919, 7.370999999999919, 7.3809999999999185, 7.390999999999918, 7.400999999999918, 7.410999999999918, 7.420999999999918, 7.4309999999999174, 7.440999999999917, 7.450999999999917, 7.460999999999917, 7.470999999999917, 7.480999999999916, 7.490999999999916, 7.500999999999916, 7.510999999999916, 7.5209999999999155, 7.530999999999915, 7.540999999999915, 7.550999999999915, 7.560999999999915, 7.5709999999999145, 7.580999999999914, 7.590999999999914, 7.600999999999914, 7.610999999999914, 7.620999999999913, 7.630999999999913, 7.640999999999913, 7.650999999999913, 7.6609999999999125, 7.670999999999912, 7.680999999999912, 7.690999999999912, 7.700999999999912, 7.7109999999999115, 7.720999999999911, 7.730999999999911, 7.740999999999911, 7.750999999999911, 7.76099999999991, 7.77099999999991, 7.78099999999991, 7.79099999999991, 7.80099999999991, 7.810999999999909, 7.820999999999909, 7.830999999999909, 7.840999999999909, 7.8509999999999085, 7.860999999999908, 7.870999999999908, 7.880999999999908, 7.890999999999908, 7.900999999999907, 7.910999999999907, 7.920999999999907, 7.930999999999907, 7.940999999999907, 7.950999999999906, 7.960999999999906, 7.970999999999906, 7.980999999999906, 7.9909999999999055, 8.000999999999905, 8.010999999999905, 8.020999999999905, 8.030999999999905, 8.040999999999904, 8.050999999999904, 8.060999999999904, 8.070999999999904, 8.080999999999904, 8.090999999999903, 8.100999999999903, 8.110999999999903, 8.120999999999903, 8.130999999999903, 8.140999999999902, 8.150999999999902, 8.160999999999902, 8.170999999999902, 8.180999999999901, 8.190999999999901, 8.200999999999901, 8.2109999999999, 8.2209999999999, 8.2309999999999, 8.2409999999999, 8.2509999999999, 8.2609999999999, 8.2709999999999, 8.2809999999999, 8.2909999999999, 8.300999999999899, 8.310999999999899, 8.320999999999898, 8.330999999999898, 8.340999999999898, 8.350999999999898, 8.360999999999898, 8.370999999999897, 8.380999999999897, 8.390999999999897, 8.400999999999897, 8.410999999999897, 8.420999999999896, 8.430999999999896, 8.440999999999896, 8.450999999999896, 8.460999999999895, 8.470999999999895, 8.480999999999895, 8.490999999999895, 8.500999999999895, 8.510999999999894, 8.520999999999894, 8.530999999999894, 8.540999999999894, 8.550999999999894, 8.560999999999893, 8.570999999999893, 8.580999999999893, 8.590999999999893, 8.600999999999893, 8.610999999999892, 8.620999999999892, 8.630999999999892, 8.640999999999892, 8.650999999999891, 8.660999999999891, 8.670999999999891, 8.68099999999989, 8.69099999999989, 8.70099999999989, 8.71099999999989, 8.72099999999989, 8.73099999999989, 8.74099999999989, 8.75099999999989, 8.760999999999889, 8.770999999999889]\n",
            "[-2.2580106944554856, -2.166989604643682, -2.075968514831885, -1.9849474250200814, -1.8939263352082776, -1.802905245396481, -1.711884155584677, -1.6208630657728804, -1.5298419759610766, -1.4388208861492728, -1.3477997963374762, -1.2567787065256724, -1.1657576167138686, -1.0747365269020719, -0.9837154370902681, -0.8926943472784714, -0.8016732574666676, -0.7106521676548638, -0.6196310778430671, -0.5286099880312634, -0.43758889821945957, -0.3465678084076629, -0.2555467185958591, -0.1645256287840624, -0.07350453897225862, 0.017516550839545175, 0.10853764065134186, 0.19955873046314565, 0.29057982027494944, 0.3816009100867461, 0.4726219998985499, 0.5636430897103537, 0.6546641795221504, 0.7456852693339542, 0.8367063591457509, 0.9277274489575547, 1.0187485387693584, 1.1097696285811551, 1.200790718392959, 1.2918118082047627, 1.3828328980165594, 1.4738539878283632, 1.5648750776401599, 1.6558961674519637, 1.7469172572637675, 1.8379383470755641, 1.928959436887368, 2.0199805266991717, 2.1110016165109684, 2.202022706322772, 2.293043796134569, 2.3840648859463727, 2.4750859757581765, 2.566107065569973, 2.657128155381777, 2.7481492451935807, 2.8391703350053774, 2.930191424817181, 3.021212514628985, 3.1122336044407817, 3.2032546942525855, 3.294275784064382, 3.385296873876186, 3.4763179636879897, 3.5673390534997864, 3.65836014331159, 3.749381233123394, 3.8404023229351907, 3.9314234127469945, 4.022444502558791, 4.113465592370595, 4.204486682182399, 4.295507771994195, 4.386528861805999, 4.477549951617803, 4.5685710414296, 4.6595921312414035, 4.7506132210532, 4.841634310865004, 4.932655400676808, 5.023676490488604, 5.114697580300408, 5.205718670112212, 5.296739759924009, 5.3877608497358125, 5.478781939547616, 5.569803029359413, 5.660824119171217, 5.751845208983013, 5.842866298794817, 5.933887388606621, 6.024908478418418, 6.1159295682302215, 6.206950658042025, 6.297971747853822, 6.388992837665626, 6.480013927477422, 6.571035017289226, 6.66205610710103, 6.753077196912827, 6.8440982867246305, 6.935119376536434, 7.026140466348231, 7.117161556160035, 7.2081826459718314, 7.299203735783635, 7.390224825595439, 7.481245915407236, 7.5722670052190395, 7.663288095030843, 7.75430918484264, 7.845330274654444, 7.936351364466248, 8.027372454278044, 8.118393544089848, 8.209414633901645, 8.300435723713449, 8.391456813525252, 8.482477903337049, 8.573498993148853, 8.664520082960657, 8.755541172772453, 8.846562262584257, 8.937583352396054, 9.028604442207858, 9.119625532019661, 9.210646621831458, 9.301667711643262, 9.392688801455066, 9.483709891266862, 9.574730981078666, 9.665752070890463, 9.756773160702267, 9.84779425051407, 9.938815340325867, 10.02983643013767, 10.120857519949475, 10.211878609761271, 10.302899699573075, 10.393920789384872, 10.484941879196676, 10.57596296900848, 10.666984058820276, 10.75800514863208, 10.849026238443884, 10.94004732825568, 11.031068418067484, 11.122089507879288, 11.213110597691085, 11.304131687502888, 11.395152777314685, 11.486173867126489, 11.577194956938293, 11.66821604675009, 11.759237136561893, 11.850258226373697, 11.941279316185494, 12.032300405997297, 12.123321495809094, 12.214342585620898, 12.305363675432702, 12.396384765244498, 12.487405855056302, 12.578426944868106, 12.669448034679903, 12.760469124491706, 12.851490214303503, 12.942511304115307, 13.03353239392711, 13.124553483738907, 13.215574573550711, 13.306595663362515, 13.397616753174312, 13.488637842986115, 13.57965893279792, 13.670680022609716, 13.76170111242152, 13.852722202233316, 13.94374329204512, 14.034764381856924, 14.12578547166872, 14.216806561480524, 14.307827651292328, 14.398848741104125, 14.489869830915929, 14.580890920727725, 14.671912010539529, 14.762933100351333, 14.85395419016313, 14.944975279974933, 15.035996369786737, 15.127017459598534, 15.218038549410338, 15.309059639222134, 15.400080729033938, 15.491101818845742, 15.582122908657539, 15.673143998469342, 15.764165088281146, 15.855186178092943, 15.946207267904747, 16.03722835771655, 16.128249447528347, 16.21927053734015, 16.310291627151948, 16.40131271696375, 16.492333806775555, 16.583354896587352, 16.674375986399156, 16.76539707621096, 16.856418166022756, 16.94743925583456, 17.038460345646357, 17.12948143545816, 17.220502525269964, 17.31152361508176, 17.402544704893565, 17.49356579470537, 17.584586884517165, 17.67560797432897, 17.766629064140766, 17.85765015395257, 17.948671243764373, 18.03969233357617, 18.130713423387974, 18.221734513199777, 18.312755603011574, 18.403776692823378, 18.49479778263518, 18.58581887244698, 18.676839962258782, 18.76786105207058, 18.858882141882383, 18.949903231694186, 19.040924321505983, 19.131945411317787, 19.22296650112959, 19.313987590941387, 19.40500868075319, 19.496029770564988, 19.58705086037679, 19.678071950188595, 19.769093040000392, 19.860114129812196, 19.951135219624, 20.042156309435796, 20.1331773992476, 20.224198489059397, 20.3152195788712, 20.406240668683004, 20.4972617584948, 20.588282848306605, 20.67930393811841, 20.770325027930205, 20.86134611774201, 20.952367207553813, 21.04338829736561, 21.134409387177413, 21.22543047698921, 21.316451566801014, 21.407472656612818, 21.498493746424614, 21.589514836236418, 21.680535926048222, 21.77155701586002, 21.862578105671822, 21.95359919548362, 22.044620285295423, 22.135641375107227, 22.226662464919023, 22.317683554730827, 22.40870464454263, 22.499725734354428, 22.59074682416623, 22.681767913978028, 22.772789003789832, 22.863810093601636, 22.954831183413432, 23.045852273225236, 23.13687336303704, 23.227894452848837, 23.31891554266064, 23.409936632472444, 23.50095772228424, 23.591978812096045, 23.68299990190784, 23.774020991719645, 23.86504208153145, 23.956063171343246, 24.04708426115505, 24.138105350966853, 24.22912644077865, 24.320147530590454, 24.41116862040225, 24.502189710214054, 24.593210800025858, 24.684231889837655, 24.77525297964946, 24.866274069461262, 24.95729515927306, 25.048316249084863, 25.13933733889666, 25.230358428708463, 25.321379518520267, 25.412400608332064, 25.503421698143868, 25.59444278795567, 25.685463877767468, 25.77648496757927, 25.867506057391076, 25.958527147202872, 26.049548237014676, 26.140569326826473, 26.231590416638277, 26.32261150645008, 26.413632596261877, 26.50465368607368, 26.595674775885485, 26.68669586569728, 26.777716955509085, 26.86873804532088, 26.959759135132686, 27.05078022494449, 27.141801314756286, 27.23282240456809, 27.323843494379894, 27.41486458419169, 27.505885674003494, 27.59690676381529, 27.687927853627095, 27.7789489434389, 27.869970033250695, 27.9609911230625, 28.052012212874303, 28.1430333026861, 28.234054392497903, 28.3250754823097, 28.416096572121504, 28.507117661933307, 28.598138751745104, 28.689159841556908, 28.78018093136871, 28.87120202118051, 28.962223110992312, 29.053244200804116, 29.144265290615913, 29.235286380427716, 29.326307470239513, 29.417328560051317, 29.50834964986312, 29.599370739674924, 29.690391829486714, 29.781412919298518, 29.87243400911032, 29.963455098922125, 30.05447618873393, 30.145497278545733, 30.236518368357522, 30.327539458169326, 30.41856054798113, 30.509581637792934, 30.600602727604738, 30.691623817416527, 30.78264490722833, 30.873665997040135, 30.96468708685194, 31.055708176663742, 31.146729266475546, 31.237750356287336, 31.32877144609914, 31.419792535910943, 31.510813625722747, 31.60183471553455, 31.69285580534634, 31.783876895158144, 31.874897984969948, 31.965919074781752, 32.056940164593556, 32.147961254405345, 32.23898234421715, 32.33000343402895, 32.42102452384076, 32.51204561365256, 32.603066703464364, 32.694087793276154, 32.78510888308796, 32.87612997289976, 32.967151062711565, 33.05817215252337, 33.14919324233516, 33.24021433214696, 33.331235421958766, 33.42225651177057, 33.513277601582374, 33.60429869139418, 33.69531978120597, 33.78634087101777, 33.877361960829575, 33.96838305064138, 34.05940414045318, 34.15042523026497, 34.241446320076776, 34.33246740988858, 34.42348849970038, 34.51450958951219, 34.60553067932398, 34.69655176913578, 34.787572858947584, 34.87859394875939, 34.96961503857119, 35.060636128382995, 35.151657218194785, 35.24267830800659, 35.33369939781839, 35.424720487630196, 35.515741577442, 35.60676266725379, 35.697783757065594, 35.7888048468774, 35.8798259366892, 35.970847026501005, 36.06186811631281, 36.1528892061246, 36.2439102959364, 36.334931385748206, 36.42595247556001, 36.51697356537181, 36.6079946551836, 36.69901574499541, 36.79003683480721, 36.881057924619014, 36.97207901443082, 37.06310010424261, 37.15412119405441, 37.245142283866215, 37.33616337367802, 37.42718446348982, 37.51820555330163, 37.609226643113416, 37.70024773292522, 37.791268822737024, 37.88228991254883, 37.97331100236063, 38.06433209217242, 38.155353181984225, 38.24637427179603, 38.33739536160783, 38.428416451419636, 38.519437541231426, 38.61045863104323, 38.70147972085503, 38.79250081066684, 38.88352190047864, 38.974542990290445, 39.065564080102234, 39.15658516991404, 39.24760625972584, 39.338627349537646, 39.42964843934945, 39.52066952916124, 39.61169061897304, 39.70271170878485, 39.79373279859665, 39.884753888408454, 39.97577497822026, 40.06679606803205, 40.15781715784385, 40.248838247655655, 40.33985933746746, 40.43088042727926, 40.52190151709105, 40.612922606902856, 40.70394369671466, 40.794964786526464, 40.88598587633827, 40.97700696615006, 41.06802805596186, 41.159049145773665, 41.25007023558547, 41.34109132539727, 41.432112415209076, 41.523133505020866, 41.61415459483267, 41.70517568464447, 41.79619677445628, 41.88721786426808, 41.97823895407987, 42.069260043891674, 42.16028113370348, 42.25130222351528, 42.342323313327086, 42.43334440313889, 42.52436549295068, 42.61538658276248, 42.70640767257429, 42.79742876238609, 42.888449852197894, 42.979470942009684, 43.07049203182149, 43.16151312163329, 43.252534211445095, 43.3435553012569, 43.43457639106869, 43.52559748088049, 43.616618570692296, 43.7076396605041, 43.798660750315904, 43.88968184012771, 43.9807029299395, 44.0717240197513, 44.162745109563105, 44.25376619937491, 44.34478728918671, 44.4358083789985, 44.526829468810305, 44.61785055862211, 44.70887164843391, 44.79989273824572, 44.89091382805752, 44.98193491786931, 45.072956007681114, 45.16397709749292]\n"
          ]
        },
        {
          "output_type": "execute_result",
          "data": {
            "text/plain": [
              "Text(0, 0.5, 'Price($K)')"
            ]
          },
          "metadata": {},
          "execution_count": 12
        },
        {
          "output_type": "display_data",
          "data": {
            "text/plain": [
              "<Figure size 432x288 with 1 Axes>"
            ],
            "image/png": "[encoded data removed]"
          },
          "metadata": {
            "needs_background": "light"
          }
        }
      ]
    },
    {
      "cell_type": "markdown",
      "metadata": {
        "id": "v_23tqcUdIfx"
      },
      "source": [
        "### Question 1c. Linear regression with multiple features/attributes [20 pts]\n",
        "One possible way to try to improve the fit is to use multiple variables at the same time."
      ]
    },
    {
      "cell_type": "markdown",
      "metadata": {
        "id": "bpsZK-mYWyFS"
      },
      "source": [
        "In this exercise, the target variable will be the `PRICE`.  We will use multiple attributes of the house to predict the price.  \n",
        "\n",
        "The names of all the data attributes are given in variable `names`. \n",
        "* We can get the list of names of the columns from `df.columns.tolist()`.  \n",
        "* Remove the last items from the list using indexing."
      ]
    },
    {
      "cell_type": "code",
      "metadata": {
        "id": "FYwmOGtxwuLA",
        "colab": {
          "base_uri": "https://localhost:8080/"
        },
        "outputId": "d934b7a6-bbdb-4be9-a303-5db385fd0fb3"
      },
      "source": [
        "xnames = names[:-1]\n",
        "print(names[:-1])"
      ],
      "execution_count": null,
      "outputs": [
        {
          "output_type": "stream",
          "name": "stdout",
          "text": [
            "['CRIM', 'ZN', 'INDUS', 'CHAS', 'NOX', 'RM', 'AGE', 'DIS', 'RAD', 'TAX', 'PTRATIO', 'B', 'LSTAT']\n"
          ]
        }
      ]
    },
    {
      "cell_type": "markdown",
      "metadata": {
        "id": "mLDuJkzNxUQu"
      },
      "source": [
        "Let us use `CRIM`, `RM`, and `LSTAT` to predict `PRICE`. \n",
        "\n",
        "Get the data matrix `X` with three features (`CRIM`, `RM`, `LSTAT`) and target vector `y` from the dataframe `df`.  \n",
        "\n",
        "Recall that to get the items from a dataframe, you can use syntax such as\n",
        "\n",
        "    s = np.array(df['RM'])  \n",
        "        \n",
        "which gets the data in the column `RM` and puts it into an array `s`.  You can also get multiple columns with syntax like\n",
        "\n",
        "    X12 = np.array(df['CRIM', 'ZN'])  \n"
      ]
    },
    {
      "cell_type": "code",
      "metadata": {
        "id": "Zp9Gk4O8FSty",
        "colab": {
          "base_uri": "https://localhost:8080/"
        },
        "outputId": "15e1fbd8-85b0-47e1-b09f-dd916a5b2414"
      },
      "source": [
        "y_mat = df['PRICE']\n",
        "x_mat = df[['CRIM','RM','LSTAT',]]\n",
        "\n",
        "print(x_mat)\n",
        "print(y_mat)"
      ],
      "execution_count": null,
      "outputs": [
        {
          "output_type": "stream",
          "name": "stdout",
          "text": [
            "        CRIM     RM  LSTAT\n",
            "0    0.00632  6.575   4.98\n",
            "1    0.02731  6.421   9.14\n",
            "2    0.02729  7.185   4.03\n",
            "3    0.03237  6.998   2.94\n",
            "4    0.06905  7.147   5.33\n",
            "..       ...    ...    ...\n",
            "501  0.06263  6.593   9.67\n",
            "502  0.04527  6.120   9.08\n",
            "503  0.06076  6.976   5.64\n",
            "504  0.10959  6.794   6.48\n",
            "505  0.04741  6.030   7.88\n",
            "\n",
            "[506 rows x 3 columns]\n",
            "0      24.0\n",
            "1      21.6\n",
            "2      34.7\n",
            "3      33.4\n",
            "4      36.2\n",
            "       ... \n",
            "501    22.4\n",
            "502    20.6\n",
            "503    23.9\n",
            "504    22.0\n",
            "505    11.9\n",
            "Name: PRICE, Length: 506, dtype: float64\n"
          ]
        }
      ]
    },
    {
      "cell_type": "markdown",
      "metadata": {
        "id": "jfHwrw4mzuS6"
      },
      "source": [
        "**Linear regression in scikit-learn**\n",
        "\n",
        "To fit the linear model, we could create a regression object and then fit the training data with regression object.\n",
        "\n",
        "```\n",
        "from sklearn import linear_model\n",
        "regr = linear_model.LinearRegression()\n",
        "regr.fit(X_train,y_train)\n",
        "```\n",
        "\n",
        "You can see the coefficients as\n",
        "```\n",
        "regr.intercept_\n",
        "regr.coef_\n",
        "```\n",
        "\n",
        "We can predict output for any data as \n",
        "\n",
        "    y_pred = regr.predict(X)\n",
        "\n",
        "**Instead of taking this approach, we will implement the regression function directly.**"
      ]
    },
    {
      "cell_type": "markdown",
      "metadata": {
        "id": "HC3dIR9Ns3Ny"
      },
      "source": [
        "**Linear regression by solving least-squares problem (direct solution)**\n",
        "\n",
        "Suppose we have $N$ pairs of training samples $(x_1,y_1),\\ldots, (x_N,y_N)$, where $\\mathbf{x}_i \\in \\mathbb{R}^d$ and $y_i \\in \\mathbb{R}$. \n",
        "\n",
        "We want to perform a linear fit over all the data features as \n",
        "$$y = \\mathbf{\\tilde w}^T\\mathbf{x}+b,$$\n",
        "where $\\mathbf{\\tilde w}\\in \\mathbb{R}^d$ and $b\\in \\mathbb{R}$. \n",
        "\n",
        "We saw in the class that we can write all the training data as a linear system \n",
        "$$ \\begin{bmatrix} y_1 \\\\ \\vdots \\\\ y_N \\end{bmatrix} = \\begin{bmatrix} - & \\mathbf{x}_1^T & - \\\\ \n",
        "& \\vdots & \\\\\n",
        "- & \\mathbf{x}_N^T& - \\end{bmatrix} \\mathbf{\\tilde w} + b, $$\n",
        "which can be written as \n",
        "$$ \\begin{bmatrix} y_1 \\\\ \\vdots \\\\ y_N \\end{bmatrix} = \\begin{bmatrix} 1 & \\mathbf{x}_1^T \\\\ \n",
        "\\vdots & \\vdots \\\\\n",
        "1 & \\mathbf{x}_N^T\\end{bmatrix} \\begin{bmatrix} b \\\\ \\mathbf{\\tilde w} \\end{bmatrix}.$$\n",
        "\n",
        "Let us write this system of linear equations in a compact form as \n",
        "\\begin{equation} \n",
        "\\mathbf{y} = \\mathbf{X}\\mathbf{w}, \n",
        "\\end{equation} \n",
        "where $\\mathbf{X}$ is an $N \\times d+1$ matrix whose first column is all ones and $\\mathbf{w}$ is a vector of length $d+1$ whose first term is the constant and rest of them are the coefficients of the linear model. \n",
        "\n",
        "The least-squares problem for the system above can be written as \n",
        "$$\\text{minimize}\\; \\frac{1}{2}\\|\\mathbf{y} - \\mathbf{X}\\mathbf{w}\\|_2^2$$\n",
        "for which the closed form solution can be written as \n",
        "$$\\mathbf{w} = (\\mathbf{X}^T\\mathbf{X})^{-1}\\mathbf{X}^T\\mathbf{y}.$$"
      ]
    },
    {
      "cell_type": "markdown",
      "metadata": {
        "id": "rid0H49X6fpi"
      },
      "source": [
        "**Append ones to the data matrix**\n",
        "\n",
        "To compute the coefficients $\\mathbf{\\tilde w}$, we first append a vector of ones to the data matrix.  This can be performed with the `ones` command and `hstack`.  Note that after we do this, `X` will have one more column than before. "
      ]
    },
    {
      "cell_type": "code",
      "metadata": {
        "id": "sod1xEK67AzN",
        "colab": {
          "base_uri": "https://localhost:8080/",
          "height": 235
        },
        "outputId": "6d40de1a-8ee6-4f2b-90ea-a9afa694b5a9"
      },
      "source": [
        "def least_sqs(x,y):\n",
        "    \"\"\"\n",
        "    Given vectors of data points (x,y), performs a fit for the linear model:\n",
        "       yhat = w*x + b, \n",
        "    The function returns w and b\n",
        "    \"\"\"\n",
        "    x_sum = x.sum()\n",
        "    y_sum = y.sum()\n",
        "    xy = x*y\n",
        "    xy_sum = xy.sum()\n",
        "    x_sqrt = x**2\n",
        "    x_sqrt_sum = x_sqrt.sum()\n",
        "\n",
        "    n = len(x)\n",
        "\n",
        "    w = (n*xy_sum - x_sum*y_sum)/(n*x_sqrt_sum - (x_sum)**2)\n",
        "\n",
        "    b = (y_sum - (w*x_sum))/ n\n",
        "\n",
        "    return w, b\n",
        "\n",
        "w, b = least_sqs(x,y)\n",
        "\n",
        "#print(f'w = {w}, b = {b}'.format(w,b))\n",
        "\n"
      ],
      "execution_count": null,
      "outputs": [
        {
          "output_type": "stream",
          "name": "stdout",
          "text": [
            "w =   9.1, b = -34.7\n"
          ]
        },
        {
          "output_type": "error",
          "ename": "NameError",
          "evalue": "ignored",
          "traceback": [
            "\u001b[0;31m---------------------------------------------------------------------------\u001b[0m",
            "\u001b[0;31mNameError\u001b[0m                                 Traceback (most recent call last)",
            "\u001b[0;32m<ipython-input-16-c8c9ddb4343b>\u001b[0m in \u001b[0;36m<module>\u001b[0;34m\u001b[0m\n\u001b[1;32m     25\u001b[0m \u001b[0;34m\u001b[0m\u001b[0m\n\u001b[1;32m     26\u001b[0m \u001b[0mprint\u001b[0m\u001b[0;34m(\u001b[0m\u001b[0;34m'w = {0:5.1f}, b = {1:5.1f}'\u001b[0m\u001b[0;34m.\u001b[0m\u001b[0mformat\u001b[0m\u001b[0;34m(\u001b[0m\u001b[0mw\u001b[0m\u001b[0;34m,\u001b[0m\u001b[0mb\u001b[0m\u001b[0;34m)\u001b[0m\u001b[0;34m)\u001b[0m\u001b[0;34m\u001b[0m\u001b[0;34m\u001b[0m\u001b[0m\n\u001b[0;32m---> 27\u001b[0;31m \u001b[0mX_E\u001b[0m \u001b[0;34m=\u001b[0m \u001b[0mnp\u001b[0m\u001b[0;34m.\u001b[0m\u001b[0mhstack\u001b[0m\u001b[0;34m(\u001b[0m\u001b[0;34m[\u001b[0m\u001b[0mnp\u001b[0m\u001b[0;34m.\u001b[0m\u001b[0mones\u001b[0m\u001b[0;34m(\u001b[0m\u001b[0;34m[\u001b[0m\u001b[0mX\u001b[0m\u001b[0;34m.\u001b[0m\u001b[0mshape\u001b[0m\u001b[0;34m[\u001b[0m\u001b[0;36m0\u001b[0m\u001b[0;34m]\u001b[0m\u001b[0;34m,\u001b[0m \u001b[0;36m1\u001b[0m\u001b[0;34m]\u001b[0m\u001b[0;34m)\u001b[0m\u001b[0;34m,\u001b[0m \u001b[0mX\u001b[0m\u001b[0;34m]\u001b[0m\u001b[0;34m)\u001b[0m\u001b[0;34m\u001b[0m\u001b[0;34m\u001b[0m\u001b[0m\n\u001b[0m\u001b[1;32m     28\u001b[0m \u001b[0mprint\u001b[0m\u001b[0;34m(\u001b[0m\u001b[0mX_E\u001b[0m\u001b[0;34m)\u001b[0m\u001b[0;34m\u001b[0m\u001b[0;34m\u001b[0m\u001b[0m\n",
            "\u001b[0;31mNameError\u001b[0m: name 'X' is not defined"
          ]
        }
      ]
    },
    {
      "cell_type": "markdown",
      "metadata": {
        "id": "0Pche190FSty"
      },
      "source": [
        "**Split the Data into Training and Test**\n",
        "\n",
        "Split the data into training and test.  Use 30% for test and 70% for training.  You can do the splitting manually or use the `sklearn` package `train_test_split`.   Store the training data in `Xtr,ytr` and test data in `Xts,yts`.\n"
      ]
    },
    {
      "cell_type": "code",
      "metadata": {
        "id": "8t88nZxdFSty",
        "colab": {
          "base_uri": "https://localhost:8080/",
          "height": 298
        },
        "outputId": "070c0fd2-8984-48c8-8321-877cef345483"
      },
      "source": [
        "from sklearn.model_selection import train_test_split\n",
        "\n",
        "x_train, x_test, y_train, y_test = train_test_split(x, y)\n",
        "Xtr = x_train\n",
        "ytr = y_train\n",
        "Xts = x_test\n",
        "yts = y_test\n",
        "plt.scatter(x_train, y_train, label='Training Data', color='r', alpha=.7)\n",
        "plt.scatter(x_test, y_test, label='Testing Data', color='g', alpha=.7)\n",
        "plt.legend()\n",
        "plt.title(\"Test Train Split\")\n",
        "plt.show\n"
      ],
      "execution_count": null,
      "outputs": [
        {
          "output_type": "execute_result",
          "data": {
            "text/plain": [
              "<function matplotlib.pyplot.show(*args, **kw)>"
            ]
          },
          "metadata": {},
          "execution_count": 17
        },
        {
          "output_type": "display_data",
          "data": {
            "text/plain": [
              "<Figure size 432x288 with 1 Axes>"
            ],
            "image/png": "[encoded data removed]"
          },
          "metadata": {
            "needs_background": "light"
          }
        }
      ]
    },
    {
      "cell_type": "markdown",
      "metadata": {
        "id": "V27_oEaX75i-"
      },
      "source": [
        "Now let us compute the coefficients $\\mathbf{w}$ using `Xtr,ytr` via the direct matrix inverse: $$\\mathbf{w} = (\\mathbf{X}^T\\mathbf{X})^{-1}\\mathbf{X}^T\\mathbf{y}.$$\n",
        "\n",
        "You may use `np.linalg.inv` to compute the inverse. For a small problem like this, it makes no difference.  But, in general, using a matrix inverse like this is *much* slower computationally than using functions such as `lstsq` method or the `LinearRegression` class.  In real world, you will never solve a least squares problem like this. "
      ]
    },
    {
      "cell_type": "code",
      "metadata": {
        "id": "uwBWVVY_8gUN",
        "colab": {
          "base_uri": "https://localhost:8080/"
        },
        "outputId": "dde2ace2-e157-415b-8f38-876af4bfd4a4"
      },
      "source": [
        "w,b = least_sqs(Xtr,ytr)\n",
        "print(w,b)"
      ],
      "execution_count": null,
      "outputs": [
        {
          "output_type": "stream",
          "name": "stdout",
          "text": [
            "9.090981965223001 -34.62921814468108\n"
          ]
        }
      ]
    },
    {
      "cell_type": "markdown",
      "metadata": {
        "id": "QCWqasJL9I6h"
      },
      "source": [
        "Compute the predicted values `yhat_tr` on the training data and print the average square loss value on the training data."
      ]
    },
    {
      "cell_type": "code",
      "metadata": {
        "id": "MXtUFymP9M0P",
        "colab": {
          "base_uri": "https://localhost:8080/"
        },
        "outputId": "46375b7d-f779-4484-f1c8-0fe048604538"
      },
      "source": [
        "yhat_tr = ytr\n",
        "n = Xtr.size\n",
        "w, b = fit_linear(Xtr,ytr)\n",
        "for i in range(n):\n",
        "  yhat_tr.iloc[i] = w * Xtr.iloc[i] + b\n",
        "\n",
        "for j in range(n):\n",
        "  sum = (y.iloc[i] - yhat_tr.iloc[i])**2\n",
        "\n",
        "loss = sum / n\n",
        "print(loss)"
      ],
      "execution_count": null,
      "outputs": [
        {
          "output_type": "stream",
          "name": "stdout",
          "text": [
            "0.5749929003371171\n"
          ]
        }
      ]
    },
    {
      "cell_type": "markdown",
      "metadata": {
        "id": "IGcEO0ggFStz"
      },
      "source": [
        "Create a scatter plot of the actual vs. predicted values of `y` on the training data."
      ]
    },
    {
      "cell_type": "code",
      "metadata": {
        "id": "-r__jPyk-Em-",
        "colab": {
          "base_uri": "https://localhost:8080/",
          "height": 265
        },
        "outputId": "f3f6923a-cef1-42f9-daf7-f4b16ee7748f"
      },
      "source": [
        "#print(yhat_tr.shape)\n",
        "#print(Xtr.shape)\n",
        "plt.scatter(x, y, label=\"Actual\", color='b')\n",
        "plt.scatter(Xtr, yhat_tr, label = 'Predicted')\n",
        "plt.show()"
      ],
      "execution_count": null,
      "outputs": [
        {
          "output_type": "display_data",
          "data": {
            "text/plain": [
              "<Figure size 432x288 with 1 Axes>"
            ],
            "image/png": "[encoded data removed]"
          },
          "metadata": {
            "needs_background": "light"
          }
        }
      ]
    },
    {
      "cell_type": "markdown",
      "metadata": {
        "id": "1HCzNYlm-UxT"
      },
      "source": [
        "Compute the predicted values `yhat_ts` on the test data and print the average square loss value on the test data."
      ]
    },
    {
      "cell_type": "code",
      "metadata": {
        "id": "mUKr8Dx2-UxU",
        "colab": {
          "base_uri": "https://localhost:8080/"
        },
        "outputId": "5e935b5c-72da-4934-f727-54869786c664"
      },
      "source": [
        "n = yts.size\n",
        "w, b = fit_linear(Xts, yts)\n",
        "yhat_ts = yts\n",
        "for i in range(n):\n",
        "  yhat_ts.iloc[i] = w*Xts.iloc[i] + b\n",
        "\n",
        "for j in range(n):\n",
        "  sum = (y.iloc[i] - yhat_ts.iloc[i])**2\n",
        "\n",
        "loss = sum/n\n",
        "print(loss)"
      ],
      "execution_count": null,
      "outputs": [
        {
          "output_type": "stream",
          "name": "stdout",
          "text": [
            "1.2319940550198483\n"
          ]
        }
      ]
    },
    {
      "cell_type": "markdown",
      "metadata": {
        "id": "W7i50wvq-CWO"
      },
      "source": [
        "Create a scatter plot of the actual vs. predicted values of `y` on the test data."
      ]
    },
    {
      "cell_type": "code",
      "metadata": {
        "id": "q8dnwG94FStz",
        "colab": {
          "base_uri": "https://localhost:8080/",
          "height": 265
        },
        "outputId": "5bc468bc-f9cb-4d42-c451-a31884c060ed"
      },
      "source": [
        "plt.scatter(x, y, label=\"Actual\", color='b')\n",
        "plt.scatter(Xts, yhat_ts, label = 'Predicted')\n",
        "plt.show()"
      ],
      "execution_count": null,
      "outputs": [
        {
          "output_type": "display_data",
          "data": {
            "text/plain": [
              "<Figure size 432x288 with 1 Axes>"
            ],
            "image/png": "[encoded data removed]"
          },
          "metadata": {
            "needs_background": "light"
          }
        }
      ]
    },
    {
      "cell_type": "markdown",
      "metadata": {
        "id": "_N6Djzqo3BLL"
      },
      "source": [
        "### Question 1d: Gradient descent for linear regression [20 pts]\n",
        "Finally, we will implement the gradient descent version of linear regression.\n",
        "\n",
        "In particular, the function implemented should follow the following format:\n",
        "```python\n",
        "def linear_regression_gd(X,y,learning_rate = 0.00001,max_iter=10000,tol=pow(10,-5)):\n",
        "```\n",
        "Where `X` is the same data matrix used above (with ones column appended), `y` is the variable to be predicted, `learning_rate` is the learning rate used ($\\alpha$ in the slides), `max_iter` defines the maximum number of iterations that gradient descent is allowed to run, and `tol` is defining the tolerance for convergence (which we'll discuss next).\n",
        "\n",
        "The return values for the above function should be (at the least) 1) `w` which are the regression parameters, 2) `all_cost` which is an array where each position contains the value of the objective function $L(\\mathbf{w})$ for a given iteration, 3) `iters` which counts how many iterations did the algorithm need in order to converge to a solution.\n",
        "\n",
        "Gradient descent is an iterative algorithm; it keeps updating the variables until a convergence criterion is met. In our case, our convergence criterion is whichever of the following two criteria happens first:\n",
        "\n",
        "- The maximum number of iterations is met\n",
        "- The relative improvement in the cost is not greater than the tolerance we have specified. For this criterion, you may use the following snippet into your code:\n",
        "```python\n",
        "np.absolute(all_cost[it] - all_cost[it-1])/all_cost[it-1] <= tol\n",
        "```\n",
        "\n",
        "Gradient can be computed as $$\\nabla_\\mathbf{w}L = \\mathbf{X}^T(\\mathbf{X}\\mathbf{w} - \\mathbf{y}).$$\n",
        "\n",
        "Estimate will be updated as $\\mathbf{w} \\gets \\mathbf{w} - \\alpha \\nabla_\\mathbf{w}L$ at every iteration. \n",
        "\n",
        "**Note that the $\\mathbf{w}$ in this derivation includes the constant term and $\\mathbf{X}$ is a matrix that has ones column appended to it.**"
      ]
    },
    {
      "cell_type": "code",
      "metadata": {
        "id": "rI3bPa4CY7XW",
        "colab": {
          "base_uri": "https://localhost:8080/"
        },
        "outputId": "41817d01-5fad-46c9-8941-38cb9fb97f00"
      },
      "source": [
        "def compute_cost(x, y, b, m):\n",
        "    total_error = 0\n",
        "    for z in range (0, len(x)):\n",
        "        total_error += (y[z] - (m * x[z] + b)) **2 \n",
        "    avg_error = total_error / float(len(x))\n",
        "    return avg_error\n",
        "\n",
        "\n",
        "def step_gradient(x,y,b,m,learning_rate):\n",
        "    b_grad= 0; m_grad = 0; lenght = len(x)\n",
        "    n = float(lenght)\n",
        "    for j in range (0, lenght):\n",
        "        b_grad += -(2/n) * (y[j] - ((m * x[j]) + b))\n",
        "        m_grad += -(2/n) * x[j] * (y[j] - ((m * x[j]) + b))\n",
        "    new_b = b - (learning_rate * b_grad)\n",
        "    new_m = m - (learning_rate * m_grad)\n",
        "    return [new_b, new_m]\n",
        "    \n",
        "\n",
        "def linear_regression_gd(x,y,learning_rate,max_iter,tol):\n",
        "    b = 0 \n",
        "    m = 0\n",
        "    iters = 0\n",
        "    all_cost = []\n",
        "    for i in range (max_iter):\n",
        "        b, m = step_gradient(x,y,b,m,learning_rate)\n",
        "        all_cost.append(compute_cost(x, y, b, m))\n",
        "        iters+=1\n",
        "        if (i >= 1):\n",
        "            if(np.absolute(all_cost[i] - all_cost[i-1])/all_cost[i-1] <= tol):\n",
        "                break\n",
        "\n",
        "    return b, m, all_cost, iters\n",
        "\n",
        "b, m, all_cost, iters = linear_regression_gd(x,y,0.0001,1000,pow(10,-5))\n",
        "\n",
        "print(iters)\n",
        "print(b)\n",
        "print(m)\n",
        "print(len(all_cost))\n",
        "\n",
        "g = step_gradient(x,y,b,w,0.001)\n",
        "print(g)"
      ],
      "execution_count": null,
      "outputs": [
        {
          "output_type": "stream",
          "name": "stdout",
          "text": [
            "593\n",
            "0.5057627914872821\n",
            "3.544459159155809\n",
            "593\n",
            "[array([[0.43507411]]), array([[8.68455542]])]\n"
          ]
        }
      ]
    },
    {
      "cell_type": "markdown",
      "metadata": {
        "id": "dN2e6tsuY8Nq"
      },
      "source": [
        "### Question 1e: Convergence plots [10 pts]\n",
        "After implementing gradient descent for linear regression, we would like to test that indeed our algorithm converges to a solution. In order see this, we are going to look at the value of the objective/loss function $L(\\mathbf{w})$ as a function of the number of iterations, and ideally, what we would like to see is $L(\\mathbf{w})$ drops as we run more iterations, and eventually it stabilizes. \n",
        "\n",
        "The learning rate plays a big role in how fast our algorithm converges: a larger learning rate means that the algorithm is making faster strides to the solution, whereas a smaller learning rate implies slower steps. In this question we are going to test two different values for the learning rate:\n",
        "- 0.00001\n",
        "- 0.000001\n",
        "\n",
        "while keeping the default values for the max number of iterations and the tolerance.\n",
        "\n",
        "\n",
        "- Plot the two convergence plots (cost vs. iterations) [5]\n",
        "\n",
        "- What do you observe? [5]\n",
        "\n",
        "<b>Important</b>: In reality, when we are running gradient descent, we should be checking convergence based on the <i>validation</i> error (i.e., we would have to split our training set into e.g., 70/30 training'/validation subsets, use the new training set to calculate the gradient descent updates and evaluate the error both on the training set and the validation set, and as soon as the validation loss stops improving, we stop training. <b>In order to keep things simple, in this assignment we are only looking at the training loss</b>, but as long as you have a function \n",
        "```python\n",
        "def compute_cost(X,w,y):\n",
        "```\n",
        "that calculates the loss for a given X, y, and set of parameters you have, you can always compute it on the validation portion of X and y (that are <b>not</b> used for the updates).  "
      ]
    },
    {
      "cell_type": "code",
      "metadata": {
        "id": "1vbaLoa7ZB_8",
        "colab": {
          "base_uri": "https://localhost:8080/",
          "height": 542
        },
        "outputId": "57878b27-0b24-4c00-c0a5-03953f0961cf"
      },
      "source": [
        "#0.00001\n",
        "t1_b, t1_m, t1_all_cost, t1_iters = linear_regression_gd(x,y,0.0001,1000,pow(10,-5))\n",
        "\n",
        "#0.000001\n",
        "t2_b, t2_m, t2_all_cost, t2_iters = linear_regression_gd(x,y,0.00001,1000,pow(10,-5))\n",
        "\n",
        "#plot diagram\n",
        "fig,Scat1 = plt.subplots()\n",
        "new_t1_iters = np.arange(0,t1_iters,1)\n",
        "Scat1.scatter(new_t1_iters, t1_all_cost)\n",
        "plt.xlabel(\"number of iteration (0.00001) \")\n",
        "plt.ylabel(\"error\")\n",
        "fig,Scat2 = plt.subplots()\n",
        "new_t2_iters = np.arange(0,t2_iters,1)\n",
        "Scat2.scatter(new_t2_iters, t2_all_cost, color='r')\n",
        "plt.xlabel(\"number of iteration (0.000001)\")\n",
        "plt.ylabel(\"error\")\n",
        "plt.show()\n",
        "#print(iters)\n",
        "#print(len(all_cost))\n",
        "# complete the rest"
      ],
      "execution_count": null,
      "outputs": [
        {
          "output_type": "display_data",
          "data": {
            "text/plain": [
              "<Figure size 432x288 with 1 Axes>"
            ],
            "image/png": "[encoded data removed]"
          },
          "metadata": {
            "needs_background": "light"
          }
        },
        {
          "output_type": "display_data",
          "data": {
            "text/plain": [
              "<Figure size 432x288 with 1 Axes>"
            ],
            "image/png": "[encoded data removed]"
          },
          "metadata": {
            "needs_background": "light"
          }
        }
      ]
    },
    {
      "cell_type": "markdown",
      "metadata": {
        "id": "KRU51zCtZAtP"
      },
      "source": [
        "Observations: \n",
        "\n",
        "1.  The itterations increase the accuracy \n",
        "1.  Decreased itterations makes a faster simualtion"
      ]
    },
    {
      "cell_type": "markdown",
      "metadata": {
        "id": "_7FVGGI_aqre"
      },
      "source": [
        "### Question 2. Logistic regression [30 pts]\n",
        "\n",
        "In this question, we will plot the logistic function and perform logistic regression. We will use the breast cancer data set.  This data set is described here:\n",
        "\n",
        "https://archive.ics.uci.edu/ml/machine-learning-databases/breast-cancer-wisconsin\n",
        "\n",
        "Each sample is a collection of features that were manually recorded by a physician upon inspecting a sample of cells from fine needle aspiration.  The goal is to detect if the cells are benign or malignant.  \n",
        "\n",
        "We could use the `sklearn` built-in `LogisticRegression` class to find the weights for the logistic regression problem.  The `fit` routine in that class has an *optimizer* to select the weights to best match the data.  To understand how that optimizer works, in this problem, we will build a very simple gradient descent optimizer from scratch.  "
      ]
    },
    {
      "cell_type": "markdown",
      "metadata": {
        "id": "EHaz8CZBfUVr"
      },
      "source": [
        "### Loading and visualizing the Breast Cancer Data\n",
        "\n",
        "We load the data from the UCI site and remove the missing values."
      ]
    },
    {
      "cell_type": "code",
      "metadata": {
        "id": "4RdmLqolffmw",
        "colab": {
          "base_uri": "https://localhost:8080/",
          "height": 238
        },
        "outputId": "f413f959-37e1-4892-92f0-ccdadcfe85eb"
      },
      "source": [
        "names = ['id','thick','size_unif','shape_unif','marg','cell_size','bare',\n",
        "         'chrom','normal','mit','class']\n",
        "df = pd.read_csv('https://archive.ics.uci.edu/ml/machine-learning-databases/' +\n",
        "                 'breast-cancer-wisconsin/breast-cancer-wisconsin.data',\n",
        "                names=names,na_values='?',header=None)\n",
        "df = df.dropna()\n",
        "df.head(6)"
      ],
      "execution_count": null,
      "outputs": [
        {
          "output_type": "execute_result",
          "data": {
            "text/plain": [
              "        id  thick  size_unif  shape_unif  marg  cell_size  bare  chrom  \\\n",
              "0  1000025      5          1           1     1          2   1.0      3   \n",
              "1  1002945      5          4           4     5          7  10.0      3   \n",
              "2  1015425      3          1           1     1          2   2.0      3   \n",
              "3  1016277      6          8           8     1          3   4.0      3   \n",
              "4  1017023      4          1           1     3          2   1.0      3   \n",
              "5  1017122      8         10          10     8          7  10.0      9   \n",
              "\n",
              "   normal  mit  class  \n",
              "0       1    1      2  \n",
              "1       2    1      2  \n",
              "2       1    1      2  \n",
              "3       7    1      2  \n",
              "4       1    1      2  \n",
              "5       7    1      4  "
            ],
            "text/html": [
              "\n",
              "  <div id=\"df-93c3a0df-d28b-4a51-bc10-46ae22b2626c\">\n",
              "    <div class=\"colab-df-container\">\n",
              "      <div>\n",
              "<style scoped>\n",
              "    .dataframe tbody tr th:only-of-type {\n",
              "        vertical-align: middle;\n",
              "    }\n",
              "\n",
              "    .dataframe tbody tr th {\n",
              "        vertical-align: top;\n",
              "    }\n",
              "\n",
              "    .dataframe thead th {\n",
              "        text-align: right;\n",
              "    }\n",
              "</style>\n",
              "<table border=\"1\" class=\"dataframe\">\n",
              "  <thead>\n",
              "    <tr style=\"text-align: right;\">\n",
              "      <th></th>\n",
              "      <th>id</th>\n",
              "      <th>thick</th>\n",
              "      <th>size_unif</th>\n",
              "      <th>shape_unif</th>\n",
              "      <th>marg</th>\n",
              "      <th>cell_size</th>\n",
              "      <th>bare</th>\n",
              "      <th>chrom</th>\n",
              "      <th>normal</th>\n",
              "      <th>mit</th>\n",
              "      <th>class</th>\n",
              "    </tr>\n",
              "  </thead>\n",
              "  <tbody>\n",
              "    <tr>\n",
              "      <th>0</th>\n",
              "      <td>1000025</td>\n",
              "      <td>5</td>\n",
              "      <td>1</td>\n",
              "      <td>1</td>\n",
              "      <td>1</td>\n",
              "      <td>2</td>\n",
              "      <td>1.0</td>\n",
              "      <td>3</td>\n",
              "      <td>1</td>\n",
              "      <td>1</td>\n",
              "      <td>2</td>\n",
              "    </tr>\n",
              "    <tr>\n",
              "      <th>1</th>\n",
              "      <td>1002945</td>\n",
              "      <td>5</td>\n",
              "      <td>4</td>\n",
              "      <td>4</td>\n",
              "      <td>5</td>\n",
              "      <td>7</td>\n",
              "      <td>10.0</td>\n",
              "      <td>3</td>\n",
              "      <td>2</td>\n",
              "      <td>1</td>\n",
              "      <td>2</td>\n",
              "    </tr>\n",
              "    <tr>\n",
              "      <th>2</th>\n",
              "      <td>1015425</td>\n",
              "      <td>3</td>\n",
              "      <td>1</td>\n",
              "      <td>1</td>\n",
              "      <td>1</td>\n",
              "      <td>2</td>\n",
              "      <td>2.0</td>\n",
              "      <td>3</td>\n",
              "      <td>1</td>\n",
              "      <td>1</td>\n",
              "      <td>2</td>\n",
              "    </tr>\n",
              "    <tr>\n",
              "      <th>3</th>\n",
              "      <td>1016277</td>\n",
              "      <td>6</td>\n",
              "      <td>8</td>\n",
              "      <td>8</td>\n",
              "      <td>1</td>\n",
              "      <td>3</td>\n",
              "      <td>4.0</td>\n",
              "      <td>3</td>\n",
              "      <td>7</td>\n",
              "      <td>1</td>\n",
              "      <td>2</td>\n",
              "    </tr>\n",
              "    <tr>\n",
              "      <th>4</th>\n",
              "      <td>1017023</td>\n",
              "      <td>4</td>\n",
              "      <td>1</td>\n",
              "      <td>1</td>\n",
              "      <td>3</td>\n",
              "      <td>2</td>\n",
              "      <td>1.0</td>\n",
              "      <td>3</td>\n",
              "      <td>1</td>\n",
              "      <td>1</td>\n",
              "      <td>2</td>\n",
              "    </tr>\n",
              "    <tr>\n",
              "      <th>5</th>\n",
              "      <td>1017122</td>\n",
              "      <td>8</td>\n",
              "      <td>10</td>\n",
              "      <td>10</td>\n",
              "      <td>8</td>\n",
              "      <td>7</td>\n",
              "      <td>10.0</td>\n",
              "      <td>9</td>\n",
              "      <td>7</td>\n",
              "      <td>1</td>\n",
              "      <td>4</td>\n",
              "    </tr>\n",
              "  </tbody>\n",
              "</table>\n",
              "</div>\n",
              "      <button class=\"colab-df-convert\" onclick=\"convertToInteractive('df-93c3a0df-d28b-4a51-bc10-46ae22b2626c')\"\n",
              "              title=\"Convert this dataframe to an interactive table.\"\n",
              "              style=\"display:none;\">\n",
              "        \n",
              "  <svg xmlns=\"http://www.w3.org/2000/svg\" height=\"24px\"viewBox=\"0 0 24 24\"\n",
              "       width=\"24px\">\n",
              "    <path d=\"M0 0h24v24H0V0z\" fill=\"none\"/>\n",
              "    <path d=\"M18.56 5.44l.94 2.06.94-2.06 2.06-.94-2.06-.94-.94-2.06-.94 2.06-2.06.94zm-11 1L8.5 8.5l.94-2.06 2.06-.94-2.06-.94L8.5 2.5l-.94 2.06-2.06.94zm10 10l.94 2.06.94-2.06 2.06-.94-2.06-.94-.94-2.06-.94 2.06-2.06.94z\"/><path d=\"M17.41 7.96l-1.37-1.37c-.4-.4-.92-.59-1.43-.59-.52 0-1.04.2-1.43.59L10.3 9.45l-7.72 7.72c-.78.78-.78 2.05 0 2.83L4 21.41c.39.39.9.59 1.41.59.51 0 1.02-.2 1.41-.59l7.78-7.78 2.81-2.81c.8-.78.8-2.07 0-2.86zM5.41 20L4 18.59l7.72-7.72 1.47 1.35L5.41 20z\"/>\n",
              "  </svg>\n",
              "      </button>\n",
              "      \n",
              "  <style>\n",
              "    .colab-df-container {\n",
              "      display:flex;\n",
              "      flex-wrap:wrap;\n",
              "      gap: 12px;\n",
              "    }\n",
              "\n",
              "    .colab-df-convert {\n",
              "      background-color: #E8F0FE;\n",
              "      border: none;\n",
              "      border-radius: 50%;\n",
              "      cursor: pointer;\n",
              "      display: none;\n",
              "      fill: #1967D2;\n",
              "      height: 32px;\n",
              "      padding: 0 0 0 0;\n",
              "      width: 32px;\n",
              "    }\n",
              "\n",
              "    .colab-df-convert:hover {\n",
              "      background-color: #E2EBFA;\n",
              "      box-shadow: 0px 1px 2px rgba(60, 64, 67, 0.3), 0px 1px 3px 1px rgba(60, 64, 67, 0.15);\n",
              "      fill: #174EA6;\n",
              "    }\n",
              "\n",
              "    [theme=dark] .colab-df-convert {\n",
              "      background-color: #3B4455;\n",
              "      fill: #D2E3FC;\n",
              "    }\n",
              "\n",
              "    [theme=dark] .colab-df-convert:hover {\n",
              "      background-color: #434B5C;\n",
              "      box-shadow: 0px 1px 3px 1px rgba(0, 0, 0, 0.15);\n",
              "      filter: drop-shadow(0px 1px 2px rgba(0, 0, 0, 0.3));\n",
              "      fill: #FFFFFF;\n",
              "    }\n",
              "  </style>\n",
              "\n",
              "      <script>\n",
              "        const buttonEl =\n",
              "          document.querySelector('#df-93c3a0df-d28b-4a51-bc10-46ae22b2626c button.colab-df-convert');\n",
              "        buttonEl.style.display =\n",
              "          google.colab.kernel.accessAllowed ? 'block' : 'none';\n",
              "\n",
              "        async function convertToInteractive(key) {\n",
              "          const element = document.querySelector('#df-93c3a0df-d28b-4a51-bc10-46ae22b2626c');\n",
              "          const dataTable =\n",
              "            await google.colab.kernel.invokeFunction('convertToInteractive',\n",
              "                                                     [key], {});\n",
              "          if (!dataTable) return;\n",
              "\n",
              "          const docLinkHtml = 'Like what you see? Visit the ' +\n",
              "            '<a target=\"_blank\" href=https://colab.research.google.com/notebooks/data_table.ipynb>data table notebook</a>'\n",
              "            + ' to learn more about interactive tables.';\n",
              "          element.innerHTML = '';\n",
              "          dataTable['output_type'] = 'display_data';\n",
              "          await google.colab.output.renderOutput(dataTable, element);\n",
              "          const docLink = document.createElement('div');\n",
              "          docLink.innerHTML = docLinkHtml;\n",
              "          element.appendChild(docLink);\n",
              "        }\n",
              "      </script>\n",
              "    </div>\n",
              "  </div>\n",
              "  "
            ]
          },
          "metadata": {},
          "execution_count": 172
        }
      ]
    },
    {
      "cell_type": "markdown",
      "metadata": {
        "id": "3EEPMsFmfpqS"
      },
      "source": [
        "After loading the data, we can create a scatter plot of the data labeling the class values with different colors.  We will pick two of the features.  "
      ]
    },
    {
      "cell_type": "code",
      "metadata": {
        "id": "rXSf9mKtfwbF",
        "colab": {
          "base_uri": "https://localhost:8080/",
          "height": 307
        },
        "outputId": "550bc524-7b41-4b83-9692-77c1bfd07bdb"
      },
      "source": [
        "# Get the response.  Convert to a zero-one indicator \n",
        "yraw = np.array(df['class'])\n",
        "BEN_VAL = 2   # value in the 'class' label for benign samples\n",
        "MAL_VAL = 4   # value in the 'class' label for malignant samples\n",
        "y = (yraw == MAL_VAL).astype(int)\n",
        "Iben = (y==0)\n",
        "Imal = (y==1)\n",
        "\n",
        "# Get two predictors\n",
        "xnames =['size_unif','marg'] \n",
        "X = np.array(df[xnames])\n",
        "\n",
        "# Create the scatter plot\n",
        "plt.plot(X[Imal,0],X[Imal,1],'r.')\n",
        "plt.plot(X[Iben,0],X[Iben,1],'g.')\n",
        "plt.xlabel(xnames[0], fontsize=16)\n",
        "plt.ylabel(xnames[1], fontsize=16)\n",
        "plt.ylim(0,14)\n",
        "plt.legend(['malign','benign'],loc='upper right')"
      ],
      "execution_count": null,
      "outputs": [
        {
          "output_type": "execute_result",
          "data": {
            "text/plain": [
              "<matplotlib.legend.Legend at 0x7f25fba6fe90>"
            ]
          },
          "metadata": {},
          "execution_count": 173
        },
        {
          "output_type": "display_data",
          "data": {
            "text/plain": [
              "<Figure size 432x288 with 1 Axes>"
            ],
            "image/png": "[encoded data removed]"
          },
          "metadata": {
            "needs_background": "light"
          }
        }
      ]
    },
    {
      "cell_type": "markdown",
      "metadata": {
        "id": "UY5fLe90gCnU"
      },
      "source": [
        "The above plot is not informative, since many of the points are on top of one another.  Thus, we cannot see the relative frequency of points.  "
      ]
    },
    {
      "cell_type": "markdown",
      "metadata": {
        "id": "1RaZ9ToBgD6-"
      },
      "source": [
        "### Logistic function\n",
        "\n",
        "We will build a binary classifier using *logistic regression*.  In logistic regression, we do not just output an estimate of the class label.  Instead, we ouput a *probability*, an estimate of how likely the sample is one class or the other.  That is our output is a number from 0 to 1 representing the likelihood:\n",
        "$$\n",
        "    P(y = 1|x)\n",
        "$$\n",
        "which is our estimate of the probability that the sample is one class (in this case, a malignant sample) based on the features in `x`.  This is sometimes called a *soft classifier*.  \n",
        "\n",
        "In logistic regression, we assume that likelihood is of the form\n",
        "$$\n",
        "    P(y=1|x) = \\sigma(z),  \\quad z = w(1)x(1) + \\cdots + w(d)x(d) + b = \\mathbf{w}^T\\mathbf{x}+b,  \n",
        "$$\n",
        "where $w(1),\\ldots,w(d),b$ are the classifier weights and $\\sigma(z)$ is the so-called *logistic* function:\n",
        "$$\n",
        "    \\sigma(z) = \\frac{1}{1+e^{-z}}.\n",
        "$$\n",
        "\n",
        "To understand the logistic function, suppose $x$ is a scalar and samples $y$ are drawn with $P(y=1|x) = f(w x+b)$ for some $w$ and $b$.  We plot these samples for different $w,b$."
      ]
    },
    {
      "cell_type": "code",
      "metadata": {
        "id": "shwwuK9Ogv7D",
        "colab": {
          "base_uri": "https://localhost:8080/",
          "height": 438
        },
        "outputId": "3b4f4fbe-3f01-4e3a-fe5b-c084db852075"
      },
      "source": [
        "N = 100\n",
        "xm = 20\n",
        "ws = np.array([0.5,1,2,10])\n",
        "bs = np.array([0, 5, -5])\n",
        "wplot = ws.size\n",
        "bplot = bs.size\n",
        "iplot = 0\n",
        "for b in bs: \n",
        "  for w in ws:\n",
        "    iplot += 1\n",
        "    x  = np.random.uniform(-xm,xm,N)\n",
        "  \n",
        "    py = 1/(1+np.exp(-w*x-b))\n",
        " \n",
        "    yp = np.array(np.random.rand(N) < py) # hard label for random points\n",
        "    xp = np.linspace(-xm,xm,100) \n",
        "    pyp = 1/(1+np.exp(-w*xp-b)) # soft label (probability) for the points\n",
        "\n",
        "    plt.subplot(bplot,wplot,iplot)\n",
        "\n",
        "    plt.scatter(x,yp,c=yp,edgecolors='none',marker='+')\n",
        "    plt.plot(xp,pyp,'b-')\n",
        "    plt.axis([-xm,xm,-0.1,1.1])\n",
        "    plt.grid() \n",
        "    if ((iplot%4)!=1):\n",
        "        plt.yticks([])\n",
        "    plt.xticks([-20,-10,0,10,20])\n",
        "    plt.title('w={0:.1f}, b={1:.1f}'.format(w,b))\n",
        "\n",
        "    plt.subplots_adjust(top=1.5, bottom=0.2, hspace=0.5, wspace=0.2)"
      ],
      "execution_count": null,
      "outputs": [
        {
          "output_type": "display_data",
          "data": {
            "text/plain": [
              "<Figure size 432x288 with 12 Axes>"
            ],
            "image/png": "[encoded data removed]"
          },
          "metadata": {
            "needs_background": "light"
          }
        }
      ]
    },
    {
      "cell_type": "markdown",
      "metadata": {
        "id": "kyhRv_1hhOj3"
      },
      "source": [
        "We see that $\\sigma(wx+b)$ represents the probability that $y=1$.  The function $\\sigma(wx) > 0.5$ for $x>0$ meaning the samples are more likely to be $y=1$.  Similarly, for $x<0$, the samples are more likely to be $y=0$.  The scaling $w$ determines how fast that transition is and $b$ influences the transition point.  "
      ]
    },
    {
      "cell_type": "markdown",
      "metadata": {
        "id": "Dr2_5WR2cY9p"
      },
      "source": [
        "### Fitting the Logistic Model on Two  Variables\n",
        "\n",
        "We will fit the logistic model on the two variables `size_unif` and `marg` that we were looking at earlier."
      ]
    },
    {
      "cell_type": "code",
      "metadata": {
        "id": "WQPUSMlTcY9q",
        "colab": {
          "base_uri": "https://localhost:8080/"
        },
        "outputId": "972d0c19-d1c8-40e4-de83-dd96c875a3d4"
      },
      "source": [
        "# load data \n",
        "xnames =['size_unif','marg'] \n",
        "X = np.array(df[xnames])\n",
        "y = np.array(df['class'])\n",
        "print(X.shape)"
      ],
      "execution_count": null,
      "outputs": [
        {
          "output_type": "stream",
          "name": "stdout",
          "text": [
            "(683, 2)\n"
          ]
        }
      ]
    },
    {
      "cell_type": "markdown",
      "metadata": {
        "id": "zvgB0iCCcY9q"
      },
      "source": [
        "Next we split the data into training and test"
      ]
    },
    {
      "cell_type": "code",
      "metadata": {
        "id": "2oC7pomCcY9q"
      },
      "source": [
        "# Split into training and test\n",
        "from sklearn.model_selection import train_test_split\n",
        "Xtr, Xts, ytr, yts = train_test_split(X,y, test_size=0.30)"
      ],
      "execution_count": null,
      "outputs": []
    },
    {
      "cell_type": "markdown",
      "metadata": {
        "id": "Qr4ru1WYcY9v"
      },
      "source": [
        "**Logistic regression in scikit-learn**\n",
        "\n",
        "The actual fitting is easy with the `sklearn` package.  The parameter `C` \n",
        "states the level of inverse regularization strength with higher values meaning less regularization. Right now, we will select a high value to minimally regularize the estimate.\n",
        "\n",
        "We can also measure the accuracy on the test data. You should get an accuracy around 90%. "
      ]
    },
    {
      "cell_type": "code",
      "metadata": {
        "id": "lKGhsUYfzUx3",
        "colab": {
          "base_uri": "https://localhost:8080/"
        },
        "outputId": "5040ffcf-50a6-4fce-ebfd-b263856fc626"
      },
      "source": [
        "from sklearn import datasets, linear_model, preprocessing\n",
        "reg = linear_model.LogisticRegression(C=1e5)\n",
        "reg.fit(Xtr, ytr)\n",
        "\n",
        "print(reg.coef_)\n",
        "print(reg.intercept_)\n",
        "\n",
        "yhat = reg.predict(Xts)\n",
        "acc = np.mean(yhat == yts)\n",
        "print(\"Accuracy on test data = %f\" % acc)"
      ],
      "execution_count": null,
      "outputs": [
        {
          "output_type": "stream",
          "name": "stdout",
          "text": [
            "[[1.52136952 0.37132077]]\n",
            "[-5.81902732]\n",
            "Accuracy on test data = 0.941463\n"
          ]
        }
      ]
    },
    {
      "cell_type": "markdown",
      "metadata": {
        "id": "dOhsTYG6zXDk"
      },
      "source": [
        "**Instead of taking this approach, we will implement the regression function using gradient descent.**"
      ]
    },
    {
      "cell_type": "markdown",
      "metadata": {
        "id": "KCTbi1wTcbIn"
      },
      "source": [
        "### Question 2a. Gradient descent for logistic regression [20 pts]\n",
        "In the class we saw that the weight vector can be found by minimizing the negative log likelihood over $N$ training samples.  The negative log likelihood is called the *loss* function.  For the logistic regression problem, the loss function simplifies to\n",
        "\n",
        "$$L(\\mathbf{w}) = - \\sum_{i=1}^N y_i \\log \\sigma(\\mathbf{w}^T\\mathbf{x}_i+b) + (1-y_i)\\log [1-\\sigma(\\mathbf{w}^T\\mathbf{x}_i+b)].$$\n",
        "\n",
        "Gradient can be computed as $$\\nabla_\\mathbf{w}L = \\sum_{i=1}^N(\\sigma(\\mathbf{w}^T\\mathbf{x}_i)-y_i)\\mathbf{x}_i ,~~~ \\nabla_b L = \\sum_{i=1}^N(\\sigma(\\mathbf{w}^T\\mathbf{x}_i)-y_i).$$\n",
        "\n",
        "\n",
        "We can update $\\mathbf{w},b$ at every iteration as  \n",
        "$$ \\mathbf{w} \\gets \\mathbf{w} - \\alpha \\nabla_\\mathbf{w}L, \\\\ b \\gets b - \\alpha \\nabla_b L.$$ \n",
        "\n",
        "**Note that we could also append the constant term in $\\mathbf{w}$ and append 1 to every $\\mathbf{x}_i$ accordingly, but we kept them separate in the expressions above.**\n",
        "\n",
        " "
      ]
    },
    {
      "cell_type": "markdown",
      "metadata": {
        "id": "QNa10nUiS5ru"
      },
      "source": [
        "**Gradient descent function implementation** \n",
        "\n",
        "We will use this loss function and gradient to implement a gradient descent-based method for logistic regression.\n",
        "\n",
        "Recall that training a logistic function means finding a weight vector `w` for the classification rule:\n",
        "\n",
        "    P(y=1|x,w) = 1/(1+\\exp(-z)), z = w[0]+w[1]*x[1] + ... + w[d]x[d]\n",
        "    \n",
        "The function implemented should follow the following format:\n",
        "```python\n",
        "def logistic_regression_gd(X,y,learning_rate = 0.001,max_iter=1000,tol=pow(10,-5)):\n",
        "```\n",
        "Where `X` is the training data feature(s), `y` is the variable to be predicted, `learning_rate` is the learning rate used ($\\alpha$ in the slides), `max_iter` defines the maximum number of iterations that gradient descent is allowed to run, and `tol` is defining the tolerance for convergence (which we'll discuss next).\n",
        "\n",
        "The return values for the above function should be (at the least) 1) `w` which are the regression parameters, 2) `all_cost` which is an array where each position contains the value of the objective function $L(\\mathbf{w})$ for a given iteration, 3) `iters` which counts how many iterations did the algorithm need in order to converge to a solution.\n",
        "\n",
        "Gradient descent is an iterative algorithm; it keeps updating the variables until a convergence criterion is met. In our case, our convergence criterion is whichever of the following two criteria happens first:\n",
        "\n",
        "- The maximum number of iterations is met\n",
        "- The relative improvement in the cost is not greater than the tolerance we have specified. For this criterion, you may use the following snippet into your code:\n",
        "```python\n",
        "np.absolute(all_cost[it] - all_cost[it-1])/all_cost[it-1] <= tol\n",
        "```"
      ]
    },
    {
      "cell_type": "code",
      "metadata": {
        "id": "SRDxzsZk8ck_",
        "colab": {
          "base_uri": "https://localhost:8080/",
          "height": 356
        },
        "outputId": "b921e668-ad08-4a2d-9c5e-23c263852c57"
      },
      "source": [
        "\n",
        "def sigmoid(x):\n",
        "  return 1/(1+np.exp(-x))\n",
        "\n",
        "\n",
        "def accuracy(y_pred, y_test):\n",
        "  return np.sum(y_pred == ytr)/len(ytr)\n",
        "\n",
        "\n",
        "def logistic_regression_gd(X,y,learning_rate = 0.00001, max_iter=10000, tol=pow(10,-5)):\n",
        "    n_samples, n_features = X.shape\n",
        "    weights = np.zeros(n_features)\n",
        "    bias = 0\n",
        "\n",
        "    linear_pred = np.dot(X, weights) + bias\n",
        "    y_pred = sigmoid(linear_pred)\n",
        "    class_pred = [0 if y <= 0.5 else 1 for y in y_pred]\n",
        "\n",
        "    for i in range(1000):\n",
        "      linear_pred = np.dot(X, weights) + bias\n",
        "      predictions = sigmoid(linear_pred)\n",
        "\n",
        "      dw = (1/n_samples) * np.dot(X.T, (predictions - y))\n",
        "      db = (1/n_samples) * np.sum(predictions - y)\n",
        "\n",
        "      weights = weights - (learning_rate*dw)\n",
        "      bias = bias - (learning_rate*db)\n",
        "\n",
        "    return bias, weights\n",
        "\n",
        "bias, weights = logistic_regression_gd(x, y, 0.00001 ,10000 ,pow(10,-5))\n",
        "\n",
        "print(bias)\n",
        "print(weights)\n"
      ],
      "execution_count": null,
      "outputs": [
        {
          "output_type": "error",
          "ename": "ValueError",
          "evalue": "ignored",
          "traceback": [
            "\u001b[0;31m---------------------------------------------------------------------------\u001b[0m",
            "\u001b[0;31mValueError\u001b[0m                                Traceback (most recent call last)",
            "\u001b[0;32m<ipython-input-44-a54621df7168>\u001b[0m in \u001b[0;36m<module>\u001b[0;34m\u001b[0m\n\u001b[1;32m     28\u001b[0m     \u001b[0;32mreturn\u001b[0m \u001b[0mbias\u001b[0m\u001b[0;34m,\u001b[0m \u001b[0mweights\u001b[0m\u001b[0;34m\u001b[0m\u001b[0;34m\u001b[0m\u001b[0m\n\u001b[1;32m     29\u001b[0m \u001b[0;34m\u001b[0m\u001b[0m\n\u001b[0;32m---> 30\u001b[0;31m \u001b[0mbias\u001b[0m\u001b[0;34m,\u001b[0m \u001b[0mweights\u001b[0m \u001b[0;34m=\u001b[0m \u001b[0mlogistic_regression_gd\u001b[0m\u001b[0;34m(\u001b[0m\u001b[0mx\u001b[0m\u001b[0;34m,\u001b[0m \u001b[0my\u001b[0m\u001b[0;34m,\u001b[0m \u001b[0;36m0.00001\u001b[0m \u001b[0;34m,\u001b[0m\u001b[0;36m10000\u001b[0m \u001b[0;34m,\u001b[0m\u001b[0mpow\u001b[0m\u001b[0;34m(\u001b[0m\u001b[0;36m10\u001b[0m\u001b[0;34m,\u001b[0m\u001b[0;34m-\u001b[0m\u001b[0;36m5\u001b[0m\u001b[0;34m)\u001b[0m\u001b[0;34m)\u001b[0m\u001b[0;34m\u001b[0m\u001b[0;34m\u001b[0m\u001b[0m\n\u001b[0m\u001b[1;32m     31\u001b[0m \u001b[0;34m\u001b[0m\u001b[0m\n\u001b[1;32m     32\u001b[0m \u001b[0mprint\u001b[0m\u001b[0;34m(\u001b[0m\u001b[0mbias\u001b[0m\u001b[0;34m)\u001b[0m\u001b[0;34m\u001b[0m\u001b[0;34m\u001b[0m\u001b[0m\n",
            "\u001b[0;32m<ipython-input-44-a54621df7168>\u001b[0m in \u001b[0;36mlogistic_regression_gd\u001b[0;34m(X, y, learning_rate, max_iter, tol)\u001b[0m\n\u001b[1;32m      8\u001b[0m \u001b[0;34m\u001b[0m\u001b[0m\n\u001b[1;32m      9\u001b[0m \u001b[0;32mdef\u001b[0m \u001b[0mlogistic_regression_gd\u001b[0m\u001b[0;34m(\u001b[0m\u001b[0mX\u001b[0m\u001b[0;34m,\u001b[0m\u001b[0my\u001b[0m\u001b[0;34m,\u001b[0m\u001b[0mlearning_rate\u001b[0m \u001b[0;34m=\u001b[0m \u001b[0;36m0.00001\u001b[0m\u001b[0;34m,\u001b[0m \u001b[0mmax_iter\u001b[0m\u001b[0;34m=\u001b[0m\u001b[0;36m10000\u001b[0m\u001b[0;34m,\u001b[0m \u001b[0mtol\u001b[0m\u001b[0;34m=\u001b[0m\u001b[0mpow\u001b[0m\u001b[0;34m(\u001b[0m\u001b[0;36m10\u001b[0m\u001b[0;34m,\u001b[0m\u001b[0;34m-\u001b[0m\u001b[0;36m5\u001b[0m\u001b[0;34m)\u001b[0m\u001b[0;34m)\u001b[0m\u001b[0;34m:\u001b[0m\u001b[0;34m\u001b[0m\u001b[0;34m\u001b[0m\u001b[0m\n\u001b[0;32m---> 10\u001b[0;31m     \u001b[0mn_samples\u001b[0m\u001b[0;34m,\u001b[0m \u001b[0mn_features\u001b[0m \u001b[0;34m=\u001b[0m \u001b[0mX\u001b[0m\u001b[0;34m.\u001b[0m\u001b[0mshape\u001b[0m\u001b[0;34m\u001b[0m\u001b[0;34m\u001b[0m\u001b[0m\n\u001b[0m\u001b[1;32m     11\u001b[0m     \u001b[0mweights\u001b[0m \u001b[0;34m=\u001b[0m \u001b[0mnp\u001b[0m\u001b[0;34m.\u001b[0m\u001b[0mzeros\u001b[0m\u001b[0;34m(\u001b[0m\u001b[0mn_features\u001b[0m\u001b[0;34m)\u001b[0m\u001b[0;34m\u001b[0m\u001b[0;34m\u001b[0m\u001b[0m\n\u001b[1;32m     12\u001b[0m     \u001b[0mbias\u001b[0m \u001b[0;34m=\u001b[0m \u001b[0;36m0\u001b[0m\u001b[0;34m\u001b[0m\u001b[0;34m\u001b[0m\u001b[0m\n",
            "\u001b[0;31mValueError\u001b[0m: not enough values to unpack (expected 2, got 1)"
          ]
        }
      ]
    },
    {
      "cell_type": "markdown",
      "metadata": {
        "id": "08r6_M-98clK"
      },
      "source": [
        "### Question 2b: Convergence plots and test accuracy [10 pts]\n",
        "\n",
        "After implementing gradient descent for logistic regression, we would like to test that indeed our algorithm converges to a solution. In order see this, we are going to look at the value of the objective/loss function $L(\\mathbf{w})$ as a function of the number of iterations, and ideally, what we would like to see is $L(\\mathbf{w})$ drops as we run more iterations, and eventually it stabilizes. \n",
        "\n",
        "The learning rate plays a big role in how fast our algorithm converges: a larger learning rate means that the algorithm is making faster strides to the solution, whereas a smaller learning rate implies slower steps. In this question we are going to test two different values for the learning rate:\n",
        "- 0.001\n",
        "- 0.00001\n",
        "\n",
        "while keeping the default values for the max number of iterations and the tolerance.\n",
        "\n",
        "\n",
        "- Plot the two convergence plots (cost vs. iterations)\n",
        "- Calculate the accuracy of classifier on the test data `Xts` \n",
        "- What do you observe? \n"
      ]
    },
    {
      "cell_type": "markdown",
      "metadata": {
        "id": "2XWJPz_uU1zT"
      },
      "source": [
        "**Calculate accuracy of your classifier on test data**\n",
        "\n",
        "To calculate the accuracy of our classifier on the test data, we can create a predict method. \n",
        "\n",
        "Implement a function `predict(X,w)` that provides you label 1 if $\\mathbf{w}^T\\mathbf{x} + b > 0$ and 0 otherwise.  "
      ]
    },
    {
      "cell_type": "code",
      "metadata": {
        "id": "uFyHcnVFVD4r"
      },
      "source": [
        "# TODO \n",
        "# Predict on test samples and measure accuracy\n",
        "def predict(X,w):\n",
        "  # your code goes here \n",
        "\n",
        "  return yhat"
      ],
      "execution_count": null,
      "outputs": []
    },
    {
      "cell_type": "code",
      "metadata": {
        "id": "P7KAVMGV8clL",
        "colab": {
          "base_uri": "https://localhost:8080/",
          "height": 235
        },
        "outputId": "3e279117-30e5-4ff0-d3fa-9b92b666a35c"
      },
      "source": [
        "# TODO \n",
        "# test gradient descent with step size 0.001\n",
        "t1_b, t1_m, t1_all_cost, t1_iters = logistic_regression_gd(x,y,0.0001,1000,pow(10,-5))\n",
        "\n",
        "#0.000001\n",
        "t2_b, t2_m, t2_all_cost, t2_iters = logistic_regression_gd(x,y,0.00001,1000,pow(10,-5))\n",
        "\n",
        "\n",
        "(w, b) = logistic_regression_gd(Xtr,ytr,learning_rate = 0.001,max_iter = 1000, tol=pow(10,-6))  \n",
        "plt.semilogy(all_cost[0:iters])    \n",
        "plt.grid()\n",
        "plt.xlabel('Iteration')\n",
        "plt.ylabel('Training loss') \n",
        "\n",
        "yhat = predict(Xts,w)\n",
        "acc = np.mean(yhat == yts)\n",
        "print(\"Test accuracy = %f\" % acc)\n",
        "\n",
        "# complete the rest "
      ],
      "execution_count": null,
      "outputs": [
        {
          "output_type": "error",
          "ename": "NameError",
          "evalue": "ignored",
          "traceback": [
            "\u001b[0;31m---------------------------------------------------------------------------\u001b[0m",
            "\u001b[0;31mNameError\u001b[0m                                 Traceback (most recent call last)",
            "\u001b[0;32m<ipython-input-29-5abcd3125b2b>\u001b[0m in \u001b[0;36m<module>\u001b[0;34m\u001b[0m\n\u001b[1;32m      1\u001b[0m \u001b[0;31m# TODO\u001b[0m\u001b[0;34m\u001b[0m\u001b[0;34m\u001b[0m\u001b[0;34m\u001b[0m\u001b[0m\n\u001b[1;32m      2\u001b[0m \u001b[0;31m# test gradient descent with step size 0.001\u001b[0m\u001b[0;34m\u001b[0m\u001b[0;34m\u001b[0m\u001b[0;34m\u001b[0m\u001b[0m\n\u001b[0;32m----> 3\u001b[0;31m \u001b[0mt1_b\u001b[0m\u001b[0;34m,\u001b[0m \u001b[0mt1_m\u001b[0m\u001b[0;34m,\u001b[0m \u001b[0mt1_all_cost\u001b[0m\u001b[0;34m,\u001b[0m \u001b[0mt1_iters\u001b[0m \u001b[0;34m=\u001b[0m \u001b[0mlogistic_regression_gd\u001b[0m\u001b[0;34m(\u001b[0m\u001b[0mx\u001b[0m\u001b[0;34m,\u001b[0m\u001b[0my\u001b[0m\u001b[0;34m,\u001b[0m\u001b[0;36m0.0001\u001b[0m\u001b[0;34m,\u001b[0m\u001b[0;36m1000\u001b[0m\u001b[0;34m,\u001b[0m\u001b[0mpow\u001b[0m\u001b[0;34m(\u001b[0m\u001b[0;36m10\u001b[0m\u001b[0;34m,\u001b[0m\u001b[0;34m-\u001b[0m\u001b[0;36m5\u001b[0m\u001b[0;34m)\u001b[0m\u001b[0;34m)\u001b[0m\u001b[0;34m\u001b[0m\u001b[0;34m\u001b[0m\u001b[0m\n\u001b[0m\u001b[1;32m      4\u001b[0m \u001b[0;34m\u001b[0m\u001b[0m\n\u001b[1;32m      5\u001b[0m \u001b[0;31m#0.000001\u001b[0m\u001b[0;34m\u001b[0m\u001b[0;34m\u001b[0m\u001b[0;34m\u001b[0m\u001b[0m\n",
            "\u001b[0;31mNameError\u001b[0m: name 'logistic_regression_gd' is not defined"
          ]
        }
      ]
    },
    {
      "cell_type": "markdown",
      "metadata": {
        "id": "Zu5HpI_-8clL"
      },
      "source": [
        "Observations: \n",
        "\n",
        "1. \n",
        "1.  "
      ]
    },
    {
      "cell_type": "code",
      "metadata": {
        "id": "gt7QNzLYQlXn"
      },
      "source": [
        "# TODO: write your code here\n",
        "# You should be able to get above 80% accuracies\n",
        "# After 0-1 nomalizing the dataset, you should be able to get above 95% accuracies\n",
        "\n"
      ],
      "execution_count": null,
      "outputs": []
    },
    {
      "cell_type": "markdown",
      "source": [
        "---\n",
        "## Submission instructions\n",
        "1. Download this Colab to ipynb, and convert it to PDF. Follow similar steps as [here](https://stackoverflow.com/questions/53460051/convert-ipynb-notebook-to-html-in-google-colab) but convert to PDF.\n",
        " - Download your .ipynb file. You can do it using only Google Colab. `File` -> `Download` -> `Download .ipynb`\n",
        " - Reupload it so Colab can see it. Click on the `Files` icon on the far left to expand the side bar. You can directly drag the downloaded .ipynb file to the area. Or click `Upload to session storage` icon and then select & upload your .ipynb file.\n",
        " - Conversion using %%shell. \n",
        " ```\n",
        "!sudo apt-get update\n",
        "!sudo apt-get install texlive-xetex texlive-fonts-recommended texlive-generic-recommended\n",
        "!jupyter nbconvert --log-level CRITICAL --to pdf name_of_hw.ipynb\n",
        "  ```\n",
        " - Your PDF file is ready. Click 3 dots and `Download`.\n",
        "\n",
        "\n",
        "  \n",
        "\n",
        "2. Upload the PDF to Gradescope, select the correct pdf pages for each question. **Important!**\n",
        "\n",
        "3. Upload the ipynb file to Gradescope"
      ],
      "metadata": {
        "id": "WecX82dMRrVo"
      }
    },
    {
      "cell_type": "code",
      "source": [
        "!sudo apt-get update\n",
        "!sudo apt-get install texlive-xetex texlive-fonts-recommended texlive-generic-recommended"
      ],
      "metadata": {
        "id": "ub1l1I4ZRqSS"
      },
      "execution_count": null,
      "outputs": []
    },
    {
      "cell_type": "code",
      "source": [
        "!jupyter nbconvert --log-level CRITICAL --to pdf fall2022_hw2.ipynb # make sure the ipynb name is correct"
      ],
      "metadata": {
        "id": "M2XuF-qZ_-fk"
      },
      "execution_count": null,
      "outputs": []
    },
    {
      "cell_type": "code",
      "source": [],
      "metadata": {
        "id": "kMCJzii39h4d"
      },
      "execution_count": null,
      "outputs": []
    }
  ]
}